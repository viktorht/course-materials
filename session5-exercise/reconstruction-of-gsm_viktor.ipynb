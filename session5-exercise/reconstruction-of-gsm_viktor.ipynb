{
 "cells": [
  {
   "cell_type": "markdown",
   "source": [
    "# Reconstruction of genome-scale metabolic models"
   ],
   "metadata": {}
  },
  {
   "cell_type": "markdown",
   "source": [
    "In the following exercise you are going to:\n",
    "\n",
    "* Reconstruct a draft of a genome-scale metabolic model using [carveme](https://github.com/cdanielmachado/carveme).\n",
    "* Analyze its characteristics (number of reactions, metabolites and genes; predicted growth rate etc.).\n",
    "* Validate your model using [memote](https://memote.io/).\n",
    "* Validate three other models of your choice (use Pubmed or Google Scholar to find publications of GSMs and then download them from the supplementary materials if available) a compare their quality metrics also with the model that you reconstructed."
   ],
   "metadata": {}
  },
  {
   "cell_type": "markdown",
   "source": [
    "***\n",
    "**A.**\n",
    "Use [carveme](https://github.com/cdanielmachado/carveme) to generate a draft reconstruction for a bacterium of your choice.\n",
    "\n",
    "For example,\n",
    "\n",
    "    carve --refseq GCF_000166295.1 --output Marinobacter-adhaerens-HP15.xml --gapfill LB --init LB\n",
    "\n",
    "will generate a GSM for the bacterium *Marinobacter adhaerens* HP15 by accessing its [sequence](https://www.ncbi.nlm.nih.gov/nuccore/NC_017506.1) on [RefSeq](https://www.ncbi.nlm.nih.gov/refseq/) (`GCF_000166295.1` is its RefSeq accession number). After \"carving\" out a model from the universal reaction model, carveme will gap-fill the model to be able to grow on rich medium (`--gapfil LB`) and initialize the final model with that medium (`--init LB`). The final model is writing to a file named `Marinobacter-adhaerens-HP15.xml` (`--output Marinobacter-adhaerens-HP15.xml`).\n",
    "\n",
    "Hints:\n",
    "* You can find carveme's documentation [here](https://carveme.readthedocs.io/en/latest/usage.html).\n",
    "* You can excecute command line commandos (e.g. `carve`) in Jupyter notebook by prepending them with a `!` here in a code cell."
   ],
   "metadata": {}
  },
  {
   "cell_type": "markdown",
   "source": [
    "As an example, let's reconstruct a draft GSM for [*Marinobacter adhaerens HP15*](https://www.ncbi.nlm.nih.gov/assembly/GCF_000166295.1) (this should take a few minutes)."
   ],
   "metadata": {}
  },
  {
   "cell_type": "code",
   "execution_count": 1,
   "source": [
    "%%time\n",
    "!carve --refseq GCF_000166295.1 --output Marinobacter-adhaerens-HP15-LB.xml --gapfill LB --init LB"
   ],
   "outputs": [
    {
     "output_type": "stream",
     "name": "stdout",
     "text": [
      "Running diamond for the first time, please wait while we build the internal database...\n",
      "diamond v0.9.14.115 | by Benjamin Buchfink <buchfink@gmail.com>\n",
      "Licensed under the GNU AGPL <https://www.gnu.org/licenses/agpl.txt>\n",
      "Check http://github.com/bbuchfink/diamond for updates.\n",
      "\n",
      "#CPU threads: 8\n",
      "Scoring parameters: (Matrix=BLOSUM62 Lambda=0.267 K=0.041 Penalties=11/1)\n",
      "Database file: /Users/s143838/.pyenv/versions/anaconda3-2020.07/envs/carveme_env/lib/python3.6/site-packages/carveme/data/generated/bigg_proteins.faa\n",
      "Opening the database file...  [0.001324s]\n",
      "Loading sequences...  [0.088402s]\n",
      "Masking sequences...  [0.604364s]\n",
      "Writing sequences...  [0.094553s]\n",
      "Loading sequences...  [1.9e-05s]\n",
      "Writing trailer...  [0.002401s]\n",
      "Closing the input file...  [4.1e-05s]\n",
      "Closing the database file...  [0.000328s]\n",
      "Processed 26727 sequences, 11170577 letters.\n",
      "Total time = 0.791755s\n",
      "CPU times: user 1.01 s, sys: 333 ms, total: 1.34 s\n",
      "Wall time: 1min 11s\n"
     ]
    }
   ],
   "metadata": {}
  },
  {
   "cell_type": "markdown",
   "source": [
    "***\n",
    "**B.**\n",
    "Try to answer the following questions.\n",
    "\n",
    "* How many reactions, metabolites and genes does the model contain?\n",
    "* What is the percentage of genes covered?\n",
    "* How fast does your model/organism grow?\n",
    "* What is the predicted growth rate if you gap-fill the model based on a minimal M9 glucose medium (`M9` instead of `LB`)\n",
    "\n",
    "Hints:\n",
    "* You can use `cobra.io.read_sbml_model` to load your model (see also previous exercise)\n",
    "* Reactions, metabolites and genes are accessible via `model.reactions`, `model.metabolites` and `model.genes` (see also previous exercise).\n",
    "* You can simulate the model by running model.optimize() (the objective value corresponds to $\\mu_{max}$)\n",
    "* You can look at the medium of a model by running `model.medium`. This will return a dictionary of all the exchange reactions that enable uptable and the bound that has been set on that uptake"
   ],
   "metadata": {}
  },
  {
   "cell_type": "code",
   "execution_count": 2,
   "source": [
    "# For some reason im not able install the cobra package in my conda env. Thus, a fix maybe to use carveme only in command line and use the regular venv to analyse the model\n",
    "from cobra.io import read_sbml_model\n",
    "model = read_sbml_model('Marinobacter-adhaerens-HP15-LB.xml')"
   ],
   "outputs": [],
   "metadata": {}
  },
  {
   "cell_type": "markdown",
   "source": [
    "***\n",
    "**C.**\n",
    "\n",
    "You can generate a report for a model with memote by running \n",
    "\n",
    "    memote report snapshot model.xml\n",
    "\n",
    "In the interest of time we're going to skip a few more computationally demanding tests and also write .\n",
    "\n",
    "    !memote report snapshot --skip test_stoichiometric_consistency \\\n",
    "        --skip test_find_metabolites_not_produced_with_open_bounds \\\n",
    "        --skip test_find_metabolites_not_consumed_with_open_bounds Marinobacter-adhaerens-HP15-LB.xml --filename Marinobacter-adhaerens-HP15-LB.html\n",
    "\n",
    "This will take a few minutes (depending on your model's size and the computational load on the Jupyter Classroom) and generate a file called `index.html` that contains the report. You can double click it in the file bwYou can continue to **D.** while you're waiting for the result."
   ],
   "metadata": {}
  },
  {
   "cell_type": "markdown",
   "source": [
    "You can adapt the following to match you're model."
   ],
   "metadata": {}
  },
  {
   "cell_type": "code",
   "execution_count": null,
   "source": [
    "%%time\n",
    "!memote report snapshot --skip test_stoichiometric_consistency \\\n",
    "    --skip test_find_metabolites_not_produced_with_open_bounds \\\n",
    "    --skip test_find_metabolites_not_consumed_with_open_bounds Marinobacter-adhaerens-HP15-LB.xml --filename Marinobacter-adhaerens-HP15-LB.html"
   ],
   "outputs": [],
   "metadata": {}
  },
  {
   "cell_type": "markdown",
   "source": [
    "***\n",
    "**D.**\n",
    "Upload three models that you found in literature and test them with memote. Compare how different quality metrics vary between those models and also the model that you constructed with carveme."
   ],
   "metadata": {}
  },
  {
   "cell_type": "code",
   "execution_count": null,
   "source": [],
   "outputs": [],
   "metadata": {}
  }
 ],
 "metadata": {
  "kernelspec": {
   "name": "python3",
   "display_name": "Python 3.8.5 64-bit ('.venv_cellfactories': venv)"
  },
  "language_info": {
   "codemirror_mode": {
    "name": "ipython",
    "version": 3
   },
   "file_extension": ".py",
   "mimetype": "text/x-python",
   "name": "python",
   "nbconvert_exporter": "python",
   "pygments_lexer": "ipython3",
   "version": "3.8.5"
  },
  "interpreter": {
   "hash": "1404b0f8eb4ff8942cf9131b36fd9d4caff873e1ee733cc5797d835088e906b5"
  }
 },
 "nbformat": 4,
 "nbformat_minor": 4
}