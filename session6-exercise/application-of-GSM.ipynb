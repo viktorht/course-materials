{
 "cells": [
  {
   "cell_type": "code",
   "execution_count": 1,
   "metadata": {},
   "outputs": [],
   "source": [
    "import pandas as pd\n",
    "import matplotlib.pyplot as plt\n",
    "plt.style.use('seaborn')\n",
    "%matplotlib inline"
   ]
  },
  {
   "cell_type": "markdown",
   "metadata": {},
   "source": [
    "# Application of genome-scale metabolic models"
   ]
  },
  {
   "cell_type": "markdown",
   "metadata": {},
   "source": [
    "## Model import"
   ]
  },
  {
   "cell_type": "markdown",
   "metadata": {},
   "source": [
    "As you've already encountered in previous exercises, you can download a GSM using `cobra.io.read_sbml_model`. Let's load the latest iteration of the *Escherchia coli* GSM iML1515 ([nature.com/articles/nbt.3956](https://www.nature.com/articles/nbt.3956))."
   ]
  },
  {
   "cell_type": "code",
   "execution_count": 2,
   "metadata": {},
   "outputs": [],
   "source": [
    "from cobra.io import read_sbml_model\n",
    "model = read_sbml_model('../data/iML1515.xml')"
   ]
  },
  {
   "cell_type": "markdown",
   "metadata": {},
   "source": [
    "## Model content"
   ]
  },
  {
   "cell_type": "markdown",
   "metadata": {},
   "source": [
    "### Metabolites"
   ]
  },
  {
   "cell_type": "markdown",
   "metadata": {},
   "source": [
    "The model contains a list of metabolites. Here are the first ten."
   ]
  },
  {
   "cell_type": "code",
   "execution_count": 3,
   "metadata": {},
   "outputs": [
    {
     "data": {
      "text/plain": [
       "[<Metabolite octapb_c at 0x12d9efd90>,\n",
       " <Metabolite cysi__L_e at 0x12d9efdf0>,\n",
       " <Metabolite dhap_c at 0x12d9effa0>,\n",
       " <Metabolite prbatp_c at 0x12d9eff40>,\n",
       " <Metabolite 10fthf_c at 0x12d9efe50>,\n",
       " <Metabolite btal_c at 0x12d9eff10>,\n",
       " <Metabolite 6pgg_c at 0x12d9effd0>,\n",
       " <Metabolite co2_e at 0x12d9eff70>,\n",
       " <Metabolite akg_e at 0x12d9efee0>,\n",
       " <Metabolite gsn_e at 0x12da04310>]"
      ]
     },
     "execution_count": 3,
     "metadata": {},
     "output_type": "execute_result"
    }
   ],
   "source": [
    "model.metabolites[0:10]"
   ]
  },
  {
   "cell_type": "markdown",
   "metadata": {},
   "source": [
    "There are 1877 metabolites in the model."
   ]
  },
  {
   "cell_type": "code",
   "execution_count": 4,
   "metadata": {},
   "outputs": [
    {
     "data": {
      "text/plain": [
       "1877"
      ]
     },
     "execution_count": 4,
     "metadata": {},
     "output_type": "execute_result"
    }
   ],
   "source": [
    "len(model.metabolites)"
   ]
  },
  {
   "cell_type": "markdown",
   "metadata": {},
   "source": [
    "One can access a specific metabolite using dot notation."
   ]
  },
  {
   "cell_type": "code",
   "execution_count": 5,
   "metadata": {},
   "outputs": [
    {
     "data": {
      "text/html": [
       "\n",
       "        <table>\n",
       "            <tr>\n",
       "                <td><strong>Metabolite identifier</strong></td><td>g3p_c</td>\n",
       "            </tr><tr>\n",
       "                <td><strong>Name</strong></td><td>Glyceraldehyde 3-phosphate</td>\n",
       "            </tr><tr>\n",
       "                <td><strong>Memory address</strong></td>\n",
       "                <td>0x012db005b0</td>\n",
       "            </tr><tr>\n",
       "                <td><strong>Formula</strong></td><td>C3H5O6P</td>\n",
       "            </tr><tr>\n",
       "                <td><strong>Compartment</strong></td><td>c</td>\n",
       "            </tr><tr>\n",
       "                <td><strong>In 15 reaction(s)</strong></td><td>\n",
       "                    TKT2, DDPGALA, TRPS1, TKT1, TPI, FBA, DRPA, EDA, TRPS3, GAPP, GAPD, DXPS, F6PA, TGBPA, TALA</td>\n",
       "            </tr>\n",
       "        </table>"
      ],
      "text/plain": [
       "<Metabolite g3p_c at 0x12db005b0>"
      ]
     },
     "execution_count": 5,
     "metadata": {},
     "output_type": "execute_result"
    }
   ],
   "source": [
    "model.metabolites.g3p_c"
   ]
  },
  {
   "cell_type": "markdown",
   "metadata": {},
   "source": [
    "<div class=\"alert alert-warning\">\n",
    "\n",
    "**Warning:** One cannot use dot notation to access metabolites, reactions, or genes if their identifiers do not resemble proper Python variable names.\n",
    "\n",
    "</div>"
   ]
  },
  {
   "cell_type": "code",
   "execution_count": 6,
   "metadata": {},
   "outputs": [],
   "source": [
    "# model.metabolites.10fthf_c  # this won't work, you can try by uncommenting the line"
   ]
  },
  {
   "cell_type": "markdown",
   "metadata": {},
   "source": [
    "<div class=\"alert alert-success\">\n",
    "\n",
    "**Solution:** Use the method `get_by_id` instead!\n",
    "\n",
    "</div>"
   ]
  },
  {
   "cell_type": "code",
   "execution_count": 7,
   "metadata": {},
   "outputs": [
    {
     "data": {
      "text/html": [
       "\n",
       "        <table>\n",
       "            <tr>\n",
       "                <td><strong>Metabolite identifier</strong></td><td>10fthf_c</td>\n",
       "            </tr><tr>\n",
       "                <td><strong>Name</strong></td><td>10-Formyltetrahydrofolate</td>\n",
       "            </tr><tr>\n",
       "                <td><strong>Memory address</strong></td>\n",
       "                <td>0x012d9efe50</td>\n",
       "            </tr><tr>\n",
       "                <td><strong>Formula</strong></td><td>C20H21N7O7</td>\n",
       "            </tr><tr>\n",
       "                <td><strong>Compartment</strong></td><td>c</td>\n",
       "            </tr><tr>\n",
       "                <td><strong>In 8 reaction(s)</strong></td><td>\n",
       "                    AICART, BIOMASS_Ec_iML1515_WT_75p37M, FTHFLi, BIOMASS_Ec_iML1515_core_75p37M, MTHFC, GARFT, ULA4NFT, FTHFD</td>\n",
       "            </tr>\n",
       "        </table>"
      ],
      "text/plain": [
       "<Metabolite 10fthf_c at 0x12d9efe50>"
      ]
     },
     "execution_count": 7,
     "metadata": {},
     "output_type": "execute_result"
    }
   ],
   "source": [
    "model.metabolites.get_by_id('10fthf_c')"
   ]
  },
  {
   "cell_type": "markdown",
   "metadata": {},
   "source": [
    "Metabolites are associated with compartments in the cell. Glyceraldehyde 3-phosphate (`g3p_c`) is associated with the `c` (Cytosol) compartment."
   ]
  },
  {
   "cell_type": "code",
   "execution_count": 8,
   "metadata": {},
   "outputs": [
    {
     "data": {
      "text/plain": [
       "'c'"
      ]
     },
     "execution_count": 8,
     "metadata": {},
     "output_type": "execute_result"
    }
   ],
   "source": [
    "model.metabolites.g3p_c.compartment"
   ]
  },
  {
   "cell_type": "markdown",
   "metadata": {},
   "source": [
    "The _E. coli_ model has three compartments."
   ]
  },
  {
   "cell_type": "code",
   "execution_count": 9,
   "metadata": {},
   "outputs": [
    {
     "data": {
      "text/plain": [
       "{'c': 'cytosol', 'e': 'extracellular space', 'p': 'periplasm'}"
      ]
     },
     "execution_count": 9,
     "metadata": {},
     "output_type": "execute_result"
    }
   ],
   "source": [
    "model.compartments"
   ]
  },
  {
   "cell_type": "markdown",
   "metadata": {},
   "source": [
    "Some metabolites (like Glucose for example) can be associated with multiple compartments."
   ]
  },
  {
   "cell_type": "code",
   "execution_count": 10,
   "metadata": {},
   "outputs": [
    {
     "data": {
      "text/plain": [
       "'c'"
      ]
     },
     "execution_count": 10,
     "metadata": {},
     "output_type": "execute_result"
    }
   ],
   "source": [
    "model.metabolites.glc__D_c.compartment"
   ]
  },
  {
   "cell_type": "code",
   "execution_count": 11,
   "metadata": {},
   "outputs": [
    {
     "data": {
      "text/plain": [
       "'p'"
      ]
     },
     "execution_count": 11,
     "metadata": {},
     "output_type": "execute_result"
    }
   ],
   "source": [
    "model.metabolites.glc__D_p.compartment"
   ]
  },
  {
   "cell_type": "markdown",
   "metadata": {},
   "source": [
    "The full name of the metabolite is available via the `.name` attribute. "
   ]
  },
  {
   "cell_type": "code",
   "execution_count": 12,
   "metadata": {},
   "outputs": [
    {
     "data": {
      "text/plain": [
       "'D-Glucose'"
      ]
     },
     "execution_count": 12,
     "metadata": {},
     "output_type": "execute_result"
    }
   ],
   "source": [
    "model.metabolites.glc__D_c.name"
   ]
  },
  {
   "cell_type": "markdown",
   "metadata": {},
   "source": [
    "One can look up the molecular formula of glucose."
   ]
  },
  {
   "cell_type": "code",
   "execution_count": 13,
   "metadata": {},
   "outputs": [
    {
     "data": {
      "text/plain": [
       "'C3H5O6P'"
      ]
     },
     "execution_count": 13,
     "metadata": {},
     "output_type": "execute_result"
    }
   ],
   "source": [
    "model.metabolites.g3p_c.formula"
   ]
  },
  {
   "cell_type": "markdown",
   "metadata": {},
   "source": [
    "The `.elements` attribute returns a dictionary representation of the formula."
   ]
  },
  {
   "cell_type": "code",
   "execution_count": 14,
   "metadata": {},
   "outputs": [
    {
     "data": {
      "text/plain": [
       "{'C': 3, 'H': 5, 'O': 6, 'P': 1}"
      ]
     },
     "execution_count": 14,
     "metadata": {},
     "output_type": "execute_result"
    }
   ],
   "source": [
    "model.metabolites.g3p_c.elements"
   ]
  },
  {
   "cell_type": "markdown",
   "metadata": {},
   "source": [
    "Furthermore, one can look up the molecular weight of a metabolite."
   ]
  },
  {
   "cell_type": "code",
   "execution_count": 15,
   "metadata": {},
   "outputs": [
    {
     "data": {
      "text/plain": [
       "168.041961"
      ]
     },
     "execution_count": 15,
     "metadata": {},
     "output_type": "execute_result"
    }
   ],
   "source": [
    "model.metabolites.g3p_c.formula_weight"
   ]
  },
  {
   "cell_type": "markdown",
   "metadata": {},
   "source": [
    "One can gather additional information (like references to external datbases) about the metabolite through the annotation attribute."
   ]
  },
  {
   "cell_type": "code",
   "execution_count": 16,
   "metadata": {},
   "outputs": [
    {
     "data": {
      "text/plain": [
       "{'sbo': 'SBO:0000247',\n",
       " 'bigg.metabolite': 'g3p',\n",
       " 'biocyc': 'META:GAP',\n",
       " 'chebi': ['CHEBI:5446',\n",
       "  'CHEBI:14333',\n",
       "  'CHEBI:12984',\n",
       "  'CHEBI:181',\n",
       "  'CHEBI:17138',\n",
       "  'CHEBI:21026',\n",
       "  'CHEBI:12983',\n",
       "  'CHEBI:18324',\n",
       "  'CHEBI:58027',\n",
       "  'CHEBI:59776',\n",
       "  'CHEBI:29052'],\n",
       " 'hmdb': 'HMDB01112',\n",
       " 'inchi_key': 'LXJXRIRHZLFYRP-VKHMYHEASA-L',\n",
       " 'kegg.compound': ['C00661', 'C00118'],\n",
       " 'metanetx.chemical': 'MNXM74',\n",
       " 'reactome.compound': '29578',\n",
       " 'sabiork': ['27', '1687'],\n",
       " 'seed.compound': ['cpd00102', 'cpd19005']}"
      ]
     },
     "execution_count": 16,
     "metadata": {},
     "output_type": "execute_result"
    }
   ],
   "source": [
    "model.metabolites.g3p_c.annotation"
   ]
  },
  {
   "cell_type": "markdown",
   "metadata": {},
   "source": [
    "One can use these annotations to look up the compound on [KEGG](http://www.genome.jp/dbget-bin/www_bget?cpd:C00118) for example."
   ]
  },
  {
   "cell_type": "markdown",
   "metadata": {},
   "source": [
    "Metabolites are not isolated things. They participate in reactions as substrates and products."
   ]
  },
  {
   "cell_type": "code",
   "execution_count": 17,
   "metadata": {},
   "outputs": [
    {
     "data": {
      "text/plain": [
       "frozenset({<Reaction DDPGALA at 0x12e4f8d90>,\n",
       "           <Reaction DRPA at 0x12e86dd90>,\n",
       "           <Reaction DXPS at 0x12e47ad90>,\n",
       "           <Reaction EDA at 0x12e39bcd0>,\n",
       "           <Reaction F6PA at 0x12e55efd0>,\n",
       "           <Reaction FBA at 0x12e390eb0>,\n",
       "           <Reaction GAPD at 0x12e72ef40>,\n",
       "           <Reaction GAPP at 0x12f55ab20>,\n",
       "           <Reaction TALA at 0x12e3b67f0>,\n",
       "           <Reaction TGBPA at 0x12e50b5e0>,\n",
       "           <Reaction TKT1 at 0x12e3dac70>,\n",
       "           <Reaction TKT2 at 0x12e848df0>,\n",
       "           <Reaction TPI at 0x12f055e80>,\n",
       "           <Reaction TRPS1 at 0x12e6d4e50>,\n",
       "           <Reaction TRPS3 at 0x12e54acd0>})"
      ]
     },
     "execution_count": 17,
     "metadata": {},
     "output_type": "execute_result"
    }
   ],
   "source": [
    "model.metabolites.g3p_c.reactions"
   ]
  },
  {
   "cell_type": "markdown",
   "metadata": {},
   "source": [
    "### Reactions"
   ]
  },
  {
   "cell_type": "markdown",
   "metadata": {},
   "source": [
    "The model contains a list of reactions. Here are the first 10 of them."
   ]
  },
  {
   "cell_type": "code",
   "execution_count": 18,
   "metadata": {},
   "outputs": [
    {
     "data": {
      "text/plain": [
       "[<Reaction CYTDK2 at 0x12df279d0>,\n",
       " <Reaction XPPT at 0x12e2ab1f0>,\n",
       " <Reaction HXPRT at 0x12e2ab970>,\n",
       " <Reaction NDPK5 at 0x12e2ab8e0>,\n",
       " <Reaction SHK3Dr at 0x12e2ab520>,\n",
       " <Reaction NDPK6 at 0x12e2abb80>,\n",
       " <Reaction NDPK8 at 0x12e2abe80>,\n",
       " <Reaction DHORTS at 0x12e2ab640>,\n",
       " <Reaction OMPDC at 0x12e2b9b50>,\n",
       " <Reaction PYNP2r at 0x12e2abe50>]"
      ]
     },
     "execution_count": 18,
     "metadata": {},
     "output_type": "execute_result"
    }
   ],
   "source": [
    "model.reactions[0:10]"
   ]
  },
  {
   "cell_type": "markdown",
   "metadata": {},
   "source": [
    "There are 2712 reactions in the model."
   ]
  },
  {
   "cell_type": "code",
   "execution_count": 19,
   "metadata": {},
   "outputs": [
    {
     "data": {
      "text/plain": [
       "2712"
      ]
     },
     "execution_count": 19,
     "metadata": {},
     "output_type": "execute_result"
    }
   ],
   "source": [
    "len(model.reactions)"
   ]
  },
  {
   "cell_type": "markdown",
   "metadata": {},
   "source": [
    "Let's take a closer look at the reactions associated with Glyceraldehyde 3-phosphate (`g3p`)."
   ]
  },
  {
   "cell_type": "code",
   "execution_count": 20,
   "metadata": {},
   "outputs": [
    {
     "name": "stdout",
     "output_type": "stream",
     "text": [
      "TKT2 TKT2: e4p_c + xu5p__D_c <=> f6p_c + g3p_c Transketolase\n",
      "DDPGALA DDPGALA: 2dh3dgal6p_c <=> g3p_c + pyr_c 2-dehydro-3-deoxy-6-phosphogalactonate aldolase\n",
      "TRPS1 TRPS1: 3ig3p_c + ser__L_c --> g3p_c + h2o_c + trp__L_c Tryptophan synthase (indoleglycerol phosphate)\n",
      "TKT1 TKT1: r5p_c + xu5p__D_c <=> g3p_c + s7p_c Transketolase\n",
      "TPI TPI: dhap_c <=> g3p_c Triose-phosphate isomerase\n",
      "FBA FBA: fdp_c <=> dhap_c + g3p_c Fructose-bisphosphate aldolase\n",
      "DRPA DRPA: 2dr5p_c --> acald_c + g3p_c Deoxyribose-phosphate aldolase\n",
      "EDA EDA: 2ddg6p_c --> g3p_c + pyr_c 2-dehydro-3-deoxy-phosphogluconate aldolase\n",
      "TRPS3 TRPS3: 3ig3p_c --> g3p_c + indole_c Tryptophan synthase (indoleglycerol phosphate)\n",
      "GAPP GAPP: g3p_c + h2o_c --> glyald_c + pi_c Glyceraldehyde-3-phosphate phosphatase\n",
      "GAPD GAPD: g3p_c + nad_c + pi_c <=> 13dpg_c + h_c + nadh_c Glyceraldehyde-3-phosphate dehydrogenase\n",
      "DXPS DXPS: g3p_c + h_c + pyr_c --> co2_c + dxyl5p_c 1-deoxy-D-xylulose 5-phosphate synthase\n",
      "F6PA F6PA: f6p_c <=> dha_c + g3p_c Fructose 6-phosphate aldolase\n",
      "TGBPA TGBPA: tagdp__D_c <=> dhap_c + g3p_c Tagatose-bisphosphate aldolase\n",
      "TALA TALA: g3p_c + s7p_c <=> e4p_c + f6p_c Transaldolase\n"
     ]
    }
   ],
   "source": [
    "for reaction in model.metabolites.g3p_c.reactions:\n",
    "    print(reaction.id, reaction, reaction.name)"
   ]
  },
  {
   "cell_type": "markdown",
   "metadata": {},
   "source": [
    "The second reaction in this list is Glyceraldehyde-3-phosphate dehydrogenase (GAPD)."
   ]
  },
  {
   "cell_type": "code",
   "execution_count": 21,
   "metadata": {},
   "outputs": [
    {
     "data": {
      "text/plain": [
       "'Glyceraldehyde-3-phosphate dehydrogenase'"
      ]
     },
     "execution_count": 21,
     "metadata": {},
     "output_type": "execute_result"
    }
   ],
   "source": [
    "model.reactions.GAPD.name"
   ]
  },
  {
   "cell_type": "markdown",
   "metadata": {},
   "source": [
    "### Objective function"
   ]
  },
  {
   "cell_type": "markdown",
   "metadata": {},
   "source": [
    "Here is the objective function currently set in the model. "
   ]
  },
  {
   "cell_type": "markdown",
   "metadata": {},
   "source": [
    "<div class=\"alert alert-info\">\n",
    "\n",
    "Under the hood all reactions are represented by two flux variables, the first one representing the forward direction, the second  one the reverse direction. In all likelihood, you won't have to worry about this during the course.\n",
    "\n",
    "</div>"
   ]
  },
  {
   "cell_type": "code",
   "execution_count": 22,
   "metadata": {},
   "outputs": [
    {
     "name": "stdout",
     "output_type": "stream",
     "text": [
      "Maximize\n",
      "1.0*BIOMASS_Ec_iML1515_core_75p37M - 1.0*BIOMASS_Ec_iML1515_core_75p37M_reverse_35685\n"
     ]
    }
   ],
   "source": [
    "print(model.objective)"
   ]
  },
  {
   "cell_type": "markdown",
   "metadata": {},
   "source": [
    "It corresponds to the following reaction."
   ]
  },
  {
   "cell_type": "code",
   "execution_count": 23,
   "metadata": {},
   "outputs": [
    {
     "data": {
      "text/html": [
       "\n",
       "        <table>\n",
       "            <tr>\n",
       "                <td><strong>Reaction identifier</strong></td><td>BIOMASS_Ec_iML1515_core_75p37M</td>\n",
       "            </tr><tr>\n",
       "                <td><strong>Name</strong></td><td>E. coli biomass objective function (iML1515) - core - with 75.37 GAM estimate</td>\n",
       "            </tr><tr>\n",
       "                <td><strong>Memory address</strong></td>\n",
       "                <td>0x012f5a6c40</td>\n",
       "            </tr><tr>\n",
       "                <td><strong>Stoichiometry</strong></td>\n",
       "                <td>\n",
       "                    <p style='text-align:right'>0.000223 10fthf_c + 2.6e-05 2fe2s_c + 0.000223 2ohph_c + 0.00026 4fe4s_c + 0.513689 ala__L_c + 0.000223 amet_c + 0.295792 arg__L_c + 0.241055 asn__L_c + 0.241055 asp__L_c + 75.55223 atp_c + 2e-06...</p>\n",
       "                    <p style='text-align:right'>0.000223 10-Formyltetrahydrofolate + 2.6e-05 [2Fe-2S] iron-sulfur cluster + 0.000223 2-Octaprenyl-6-hydroxyphenol + 0.00026 [4Fe-4S] iron-sulfur cluster + 0.513689 L-Alanine + 0.000223 S-Adenosyl-...</p>\n",
       "                </td>\n",
       "            </tr><tr>\n",
       "                <td><strong>GPR</strong></td><td></td>\n",
       "            </tr><tr>\n",
       "                <td><strong>Lower bound</strong></td><td>0.0</td>\n",
       "            </tr><tr>\n",
       "                <td><strong>Upper bound</strong></td><td>1000.0</td>\n",
       "            </tr>\n",
       "        </table>\n",
       "        "
      ],
      "text/plain": [
       "<Reaction BIOMASS_Ec_iML1515_core_75p37M at 0x12f5a6c40>"
      ]
     },
     "execution_count": 23,
     "metadata": {},
     "output_type": "execute_result"
    }
   ],
   "source": [
    "model.reactions.BIOMASS_Ec_iML1515_core_75p37M"
   ]
  },
  {
   "cell_type": "markdown",
   "metadata": {},
   "source": [
    "### ATP maintenance requirement"
   ]
  },
  {
   "cell_type": "markdown",
   "metadata": {},
   "source": [
    "Most models also contain a reaction that hydrolyzes ATP and that represents the non-growth ATP maintenance (NGAM) cost. Usually its lower bound is set to an experimentally determined value to enforce a certain flux."
   ]
  },
  {
   "cell_type": "code",
   "execution_count": 24,
   "metadata": {},
   "outputs": [
    {
     "data": {
      "text/html": [
       "\n",
       "        <table>\n",
       "            <tr>\n",
       "                <td><strong>Reaction identifier</strong></td><td>ATPM</td>\n",
       "            </tr><tr>\n",
       "                <td><strong>Name</strong></td><td>ATP maintenance requirement</td>\n",
       "            </tr><tr>\n",
       "                <td><strong>Memory address</strong></td>\n",
       "                <td>0x012ed134c0</td>\n",
       "            </tr><tr>\n",
       "                <td><strong>Stoichiometry</strong></td>\n",
       "                <td>\n",
       "                    <p style='text-align:right'>atp_c + h2o_c --> adp_c + h_c + pi_c</p>\n",
       "                    <p style='text-align:right'>ATP C10H12N5O13P3 + H2O H2O --> ADP C10H12N5O10P2 + H+ + Phosphate</p>\n",
       "                </td>\n",
       "            </tr><tr>\n",
       "                <td><strong>GPR</strong></td><td></td>\n",
       "            </tr><tr>\n",
       "                <td><strong>Lower bound</strong></td><td>6.86</td>\n",
       "            </tr><tr>\n",
       "                <td><strong>Upper bound</strong></td><td>1000.0</td>\n",
       "            </tr>\n",
       "        </table>\n",
       "        "
      ],
      "text/plain": [
       "<Reaction ATPM at 0x12ed134c0>"
      ]
     },
     "execution_count": 24,
     "metadata": {},
     "output_type": "execute_result"
    }
   ],
   "source": [
    "model.reactions.ATPM"
   ]
  },
  {
   "cell_type": "markdown",
   "metadata": {},
   "source": [
    "### Gene-Protein-Reaction associations"
   ]
  },
  {
   "cell_type": "markdown",
   "metadata": {},
   "source": [
    "Glyceraldehyde-3-phosphate dehydrogenase is associated with a single gene. "
   ]
  },
  {
   "cell_type": "code",
   "execution_count": 25,
   "metadata": {},
   "outputs": [
    {
     "data": {
      "text/plain": [
       "'b1779'"
      ]
     },
     "execution_count": 25,
     "metadata": {},
     "output_type": "execute_result"
    }
   ],
   "source": [
    "model.reactions.GAPD.gene_reaction_rule"
   ]
  },
  {
   "cell_type": "markdown",
   "metadata": {},
   "source": [
    "Phosphofructokinase (PFK) on the other hand seems to be associated with two isozymes."
   ]
  },
  {
   "cell_type": "code",
   "execution_count": 26,
   "metadata": {},
   "outputs": [
    {
     "data": {
      "text/plain": [
       "'b3916 or b1723'"
      ]
     },
     "execution_count": 26,
     "metadata": {},
     "output_type": "execute_result"
    }
   ],
   "source": [
    "model.reactions.PFK.gene_reaction_rule"
   ]
  },
  {
   "cell_type": "markdown",
   "metadata": {},
   "source": [
    "One can display the gene names (typical 4 letter gene codes) instead of the identifiers (Blattner numbers in this case)."
   ]
  },
  {
   "cell_type": "code",
   "execution_count": 27,
   "metadata": {},
   "outputs": [
    {
     "data": {
      "text/plain": [
       "'pfkA or pfkB'"
      ]
     },
     "execution_count": 27,
     "metadata": {},
     "output_type": "execute_result"
    }
   ],
   "source": [
    "model.reactions.PFK.gene_name_reaction_rule"
   ]
  },
  {
   "cell_type": "markdown",
   "metadata": {},
   "source": [
    "Here a very complicated gene to reaction mapping (ATP synthase)."
   ]
  },
  {
   "cell_type": "code",
   "execution_count": 28,
   "metadata": {},
   "outputs": [
    {
     "data": {
      "text/plain": [
       "'(atpI and (atpC and atpG and atpH and atpA and atpD) and (atpB and atpF and atpE)) or ((atpC and atpG and atpH and atpA and atpD) and (atpB and atpF and atpE))'"
      ]
     },
     "execution_count": 28,
     "metadata": {},
     "output_type": "execute_result"
    }
   ],
   "source": [
    "model.reactions.ATPS4rpp.gene_name_reaction_rule"
   ]
  },
  {
   "cell_type": "markdown",
   "metadata": {},
   "source": [
    "### Finding things"
   ]
  },
  {
   "cell_type": "markdown",
   "metadata": {},
   "source": [
    "One can use `.query('search term', 'attribute_to_search_in')` to search in model metabolites, reactions, and genes. For example, one can search metabolites that contain the term _glucose_ in their name."
   ]
  },
  {
   "cell_type": "code",
   "execution_count": 29,
   "metadata": {},
   "outputs": [
    {
     "name": "stdout",
     "output_type": "stream",
     "text": [
      "6-Phospho-beta-D-glucosyl-(1,4)-D-glucose\n",
      "DTDP-4-dehydro-6-deoxy-D-glucose\n",
      "Undecaprenol-diphosphate-glucose\n",
      "UDPglucose\n",
      "2 Deoxy D glucose 6 phosphate C6H11O8P\n",
      "ADPglucose C16H23N5O15P2\n",
      "6-Acetyl-D-glucose\n",
      "UDPglucose\n",
      "UDPglucose\n",
      "DTDPglucose\n",
      "2 Deoxy D glucose C6H12O5\n",
      "2 Deoxy D glucose C6H12O5\n",
      "2 Deoxy D glucose C6H12O5\n"
     ]
    }
   ],
   "source": [
    "for metabolite in model.metabolites.query('glucose', 'name'):\n",
    "    print(metabolite.name)"
   ]
  },
  {
   "cell_type": "markdown",
   "metadata": {},
   "source": [
    "## Simulating models"
   ]
  },
  {
   "cell_type": "code",
   "execution_count": 30,
   "metadata": {},
   "outputs": [
    {
     "data": {
      "text/html": [
       "<strong><em>Optimal</em> solution with objective value 0.877</strong><br><div>\n",
       "<style scoped>\n",
       "    .dataframe tbody tr th:only-of-type {\n",
       "        vertical-align: middle;\n",
       "    }\n",
       "\n",
       "    .dataframe tbody tr th {\n",
       "        vertical-align: top;\n",
       "    }\n",
       "\n",
       "    .dataframe thead th {\n",
       "        text-align: right;\n",
       "    }\n",
       "</style>\n",
       "<table border=\"1\" class=\"dataframe\">\n",
       "  <thead>\n",
       "    <tr style=\"text-align: right;\">\n",
       "      <th></th>\n",
       "      <th>fluxes</th>\n",
       "      <th>reduced_costs</th>\n",
       "    </tr>\n",
       "  </thead>\n",
       "  <tbody>\n",
       "    <tr>\n",
       "      <th>CYTDK2</th>\n",
       "      <td>0.00000</td>\n",
       "      <td>-7.523353e-03</td>\n",
       "    </tr>\n",
       "    <tr>\n",
       "      <th>XPPT</th>\n",
       "      <td>0.00000</td>\n",
       "      <td>-1.504671e-02</td>\n",
       "    </tr>\n",
       "    <tr>\n",
       "      <th>HXPRT</th>\n",
       "      <td>0.00000</td>\n",
       "      <td>-1.504671e-02</td>\n",
       "    </tr>\n",
       "    <tr>\n",
       "      <th>NDPK5</th>\n",
       "      <td>0.00000</td>\n",
       "      <td>2.775558e-17</td>\n",
       "    </tr>\n",
       "    <tr>\n",
       "      <th>SHK3Dr</th>\n",
       "      <td>0.33424</td>\n",
       "      <td>3.295975e-17</td>\n",
       "    </tr>\n",
       "    <tr>\n",
       "      <th>...</th>\n",
       "      <td>...</td>\n",
       "      <td>...</td>\n",
       "    </tr>\n",
       "    <tr>\n",
       "      <th>MPTS</th>\n",
       "      <td>0.00000</td>\n",
       "      <td>-2.257006e-02</td>\n",
       "    </tr>\n",
       "    <tr>\n",
       "      <th>MOCOS</th>\n",
       "      <td>0.00000</td>\n",
       "      <td>-1.734723e-17</td>\n",
       "    </tr>\n",
       "    <tr>\n",
       "      <th>BMOGDS2</th>\n",
       "      <td>0.00000</td>\n",
       "      <td>-3.338488e-01</td>\n",
       "    </tr>\n",
       "    <tr>\n",
       "      <th>FESD2s</th>\n",
       "      <td>0.00000</td>\n",
       "      <td>7.632783e-17</td>\n",
       "    </tr>\n",
       "    <tr>\n",
       "      <th>OCTNLL</th>\n",
       "      <td>0.00000</td>\n",
       "      <td>-1.202796e+00</td>\n",
       "    </tr>\n",
       "  </tbody>\n",
       "</table>\n",
       "<p>2712 rows × 2 columns</p>\n",
       "</div>"
      ],
      "text/plain": [
       "<Solution 0.877 at 0x12f770b50>"
      ]
     },
     "execution_count": 30,
     "metadata": {},
     "output_type": "execute_result"
    }
   ],
   "source": [
    "model.optimize()"
   ]
  },
  {
   "cell_type": "markdown",
   "metadata": {},
   "source": [
    "You can get the objective value (which corresponds to $\\mu_{max}$ in this case) like this."
   ]
  },
  {
   "cell_type": "code",
   "execution_count": 31,
   "metadata": {},
   "outputs": [
    {
     "data": {
      "text/plain": [
       "0.8769972144269748"
      ]
     },
     "execution_count": 31,
     "metadata": {},
     "output_type": "execute_result"
    }
   ],
   "source": [
    "model.optimize().objective_value"
   ]
  },
  {
   "cell_type": "markdown",
   "metadata": {},
   "source": [
    "We'll get to the fluxes in a second."
   ]
  },
  {
   "cell_type": "markdown",
   "metadata": {},
   "source": [
    "## *E. coli* Core model"
   ]
  },
  {
   "cell_type": "markdown",
   "metadata": {},
   "source": [
    "For the sake of keeping things simple, let's continue with a much simplified model representing *Escherichia coli's* central carbon metabolism, i.e., the *E. coli* Core Model [10.1128/ecosalplus.10.2.1]( https://doi.org/10.1128/ecosalplus.10.2.1)."
   ]
  },
  {
   "cell_type": "code",
<<<<<<< Updated upstream
   "execution_count": 1,
=======
   "execution_count": 32,
   "metadata": {},
   "outputs": [],
>>>>>>> Stashed changes
   "source": [
    "from cobra.io import read_sbml_model\n",
    "model = read_sbml_model('../data/e_coli_core.xml')"
   ]
  },
  {
   "cell_type": "code",
<<<<<<< Updated upstream
   "execution_count": 4,
   "source": [
    "model"
   ],
=======
   "execution_count": 33,
   "metadata": {},
>>>>>>> Stashed changes
   "outputs": [
    {
     "data": {
      "text/html": [
       "\n",
       "        <table>\n",
       "            <tr>\n",
       "                <td><strong>Name</strong></td>\n",
       "                <td>e_coli_core</td>\n",
       "            </tr><tr>\n",
       "                <td><strong>Memory address</strong></td>\n",
<<<<<<< Updated upstream
       "                <td>0x0105ad2e20</td>\n",
=======
       "                <td>0x012f79b5b0</td>\n",
>>>>>>> Stashed changes
       "            </tr><tr>\n",
       "                <td><strong>Number of metabolites</strong></td>\n",
       "                <td>72</td>\n",
       "            </tr><tr>\n",
       "                <td><strong>Number of reactions</strong></td>\n",
       "                <td>95</td>\n",
       "            </tr><tr>\n",
       "                <td><strong>Number of groups</strong></td>\n",
       "                <td>9</td>\n",
       "            </tr><tr>\n",
       "                <td><strong>Objective expression</strong></td>\n",
       "                <td>1.0*BIOMASS_Ecoli_core_w_GAM - 1.0*BIOMASS_Ecoli_core_w_GAM_reverse_712e5</td>\n",
       "            </tr><tr>\n",
       "                <td><strong>Compartments</strong></td>\n",
       "                <td>cytosol, extracellular space</td>\n",
       "            </tr>\n",
       "          </table>"
      ],
      "text/plain": [
<<<<<<< Updated upstream
       "<Model e_coli_core at 0x105ad2e20>"
=======
       "<Model e_coli_core at 0x12f79b5b0>"
>>>>>>> Stashed changes
      ]
     },
     "execution_count": 33,
     "metadata": {},
<<<<<<< Updated upstream
     "execution_count": 4
=======
     "output_type": "execute_result"
>>>>>>> Stashed changes
    }
   ],
   "source": [
    "model"
   ]
  },
  {
   "cell_type": "markdown",
   "metadata": {},
   "source": [
    "We can simulate the model and the store the solution in a variable."
   ]
  },
  {
   "cell_type": "code",
<<<<<<< Updated upstream
   "execution_count": 9,
   "source": [
    "solution = model.optimize()\n",
    "solution"
   ],
   "outputs": [
    {
     "output_type": "execute_result",
     "data": {
      "text/html": [
       "<strong><em>Optimal</em> solution with objective value 0.874</strong><br><div>\n",
       "<style scoped>\n",
       "    .dataframe tbody tr th:only-of-type {\n",
       "        vertical-align: middle;\n",
       "    }\n",
       "\n",
       "    .dataframe tbody tr th {\n",
       "        vertical-align: top;\n",
       "    }\n",
       "\n",
       "    .dataframe thead th {\n",
       "        text-align: right;\n",
       "    }\n",
       "</style>\n",
       "<table border=\"1\" class=\"dataframe\">\n",
       "  <thead>\n",
       "    <tr style=\"text-align: right;\">\n",
       "      <th></th>\n",
       "      <th>fluxes</th>\n",
       "      <th>reduced_costs</th>\n",
       "    </tr>\n",
       "  </thead>\n",
       "  <tbody>\n",
       "    <tr>\n",
       "      <th>ACALD</th>\n",
       "      <td>0.000000</td>\n",
       "      <td>0.000000e+00</td>\n",
       "    </tr>\n",
       "    <tr>\n",
       "      <th>ACALDt</th>\n",
       "      <td>0.000000</td>\n",
       "      <td>0.000000e+00</td>\n",
       "    </tr>\n",
       "    <tr>\n",
       "      <th>ACKr</th>\n",
       "      <td>0.000000</td>\n",
       "      <td>-2.081668e-17</td>\n",
       "    </tr>\n",
       "    <tr>\n",
       "      <th>ACONTa</th>\n",
       "      <td>6.007250</td>\n",
       "      <td>-2.775558e-17</td>\n",
       "    </tr>\n",
       "    <tr>\n",
       "      <th>ACONTb</th>\n",
       "      <td>6.007250</td>\n",
       "      <td>-1.387779e-17</td>\n",
       "    </tr>\n",
       "    <tr>\n",
       "      <th>...</th>\n",
       "      <td>...</td>\n",
       "      <td>...</td>\n",
       "    </tr>\n",
       "    <tr>\n",
       "      <th>TALA</th>\n",
       "      <td>1.496984</td>\n",
       "      <td>9.714451e-17</td>\n",
       "    </tr>\n",
       "    <tr>\n",
       "      <th>THD2</th>\n",
       "      <td>0.000000</td>\n",
       "      <td>-2.546243e-03</td>\n",
       "    </tr>\n",
       "    <tr>\n",
       "      <th>TKT1</th>\n",
       "      <td>1.496984</td>\n",
       "      <td>5.551115e-17</td>\n",
       "    </tr>\n",
       "    <tr>\n",
       "      <th>TKT2</th>\n",
       "      <td>1.181498</td>\n",
       "      <td>-9.714451e-17</td>\n",
       "    </tr>\n",
       "    <tr>\n",
       "      <th>TPI</th>\n",
       "      <td>7.477382</td>\n",
       "      <td>6.938894e-18</td>\n",
       "    </tr>\n",
       "  </tbody>\n",
       "</table>\n",
       "<p>95 rows × 2 columns</p>\n",
       "</div>"
      ],
      "text/plain": [
       "<Solution 0.874 at 0x129afe3d0>"
      ]
     },
     "metadata": {},
     "execution_count": 9
    }
   ],
   "metadata": {}
=======
   "execution_count": 34,
   "metadata": {},
   "outputs": [],
   "source": [
    "solution = model.optimize()"
   ]
>>>>>>> Stashed changes
  },
  {
   "cell_type": "markdown",
   "metadata": {},
   "source": [
    "Then we can access the predicted fluxes."
   ]
  },
  {
   "cell_type": "code",
<<<<<<< Updated upstream
   "execution_count": 8,
   "source": [
    "solution.fluxes"
   ],
=======
   "execution_count": 35,
   "metadata": {},
>>>>>>> Stashed changes
   "outputs": [
    {
     "data": {
      "text/plain": [
       "ACALD     0.000000\n",
       "ACALDt    0.000000\n",
       "ACKr      0.000000\n",
       "ACONTa    6.007250\n",
       "ACONTb    6.007250\n",
       "            ...   \n",
       "TALA      1.496984\n",
       "THD2      0.000000\n",
       "TKT1      1.496984\n",
       "TKT2      1.181498\n",
       "TPI       7.477382\n",
       "Name: fluxes, Length: 95, dtype: float64"
      ]
     },
     "execution_count": 35,
     "metadata": {},
<<<<<<< Updated upstream
     "execution_count": 8
=======
     "output_type": "execute_result"
>>>>>>> Stashed changes
    }
   ],
   "source": [
    "solution.fluxes"
   ]
  },
  {
   "cell_type": "markdown",
   "metadata": {},
   "source": [
    "`solution.fluxes` is a pandas `Series` object so we can do easily pandas related things (statistics, plotting, filtering etc.)."
   ]
  },
  {
   "cell_type": "code",
<<<<<<< Updated upstream
   "execution_count": 9,
   "source": [
    "type(solution.fluxes)"
   ],
=======
   "execution_count": 36,
   "metadata": {},
>>>>>>> Stashed changes
   "outputs": [
    {
     "data": {
      "text/plain": [
       "pandas.core.series.Series"
      ]
     },
     "execution_count": 36,
     "metadata": {},
<<<<<<< Updated upstream
     "execution_count": 9
=======
     "output_type": "execute_result"
>>>>>>> Stashed changes
    }
   ],
   "source": [
    "type(solution.fluxes)"
   ]
  },
  {
   "cell_type": "markdown",
   "metadata": {},
   "source": [
    "Let's get statistical overview of the data."
   ]
  },
  {
   "cell_type": "code",
<<<<<<< Updated upstream
   "execution_count": 10,
   "source": [
    "solution.fluxes.describe()"
   ],
=======
   "execution_count": 37,
   "metadata": {},
>>>>>>> Stashed changes
   "outputs": [
    {
     "data": {
      "text/plain": [
       "count    95.000000\n",
       "mean      2.627753\n",
       "std      10.698095\n",
       "min     -29.175827\n",
       "25%       0.000000\n",
       "50%       0.000000\n",
       "75%       4.959985\n",
       "max      45.514010\n",
       "Name: fluxes, dtype: float64"
      ]
     },
     "execution_count": 37,
     "metadata": {},
<<<<<<< Updated upstream
     "execution_count": 10
=======
     "output_type": "execute_result"
>>>>>>> Stashed changes
    }
   ],
   "source": [
    "solution.fluxes.describe()"
   ]
  },
  {
   "cell_type": "markdown",
   "metadata": {},
   "source": [
    "Let's plot a histogram of the distribution of flux values."
   ]
  },
  {
   "cell_type": "code",
<<<<<<< Updated upstream
   "execution_count": 11,
   "source": [
    "fig = solution.fluxes.hist()\n",
    "fig.set_xlabel('flux [$mmol gDW^{-1} h^{-1}]$')\n",
    "fig.set_ylabel('Frequency');"
   ],
=======
   "execution_count": 38,
   "metadata": {},
>>>>>>> Stashed changes
   "outputs": [
    {
     "data": {
<<<<<<< Updated upstream
      "image/png": "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",
=======
      "image/png": "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",
>>>>>>> Stashed changes
      "text/plain": [
       "<Figure size 432x288 with 1 Axes>"
      ]
     },
     "metadata": {
      "needs_background": "light"
     },
     "output_type": "display_data"
    }
   ],
   "source": [
    "fig = solution.fluxes.hist()\n",
    "fig.set_xlabel('flux [$mmol gDW^{-1} h^{-1}]$')\n",
    "fig.set_ylabel('Frequency');"
   ]
  },
  {
   "cell_type": "markdown",
   "metadata": {},
   "source": [
    "Let's filter the non-zero fluxes."
   ]
  },
  {
   "cell_type": "code",
<<<<<<< Updated upstream
   "execution_count": 12,
   "source": [
    "solution.fluxes[solution.fluxes != 0.]"
   ],
=======
   "execution_count": 39,
   "metadata": {},
>>>>>>> Stashed changes
   "outputs": [
    {
     "data": {
      "text/plain": [
       "ACONTa                      6.007250e+00\n",
       "ACONTb                      6.007250e+00\n",
       "AKGDH                       5.064376e+00\n",
       "ATPM                        8.390000e+00\n",
       "ATPS4r                      4.551401e+01\n",
       "BIOMASS_Ecoli_core_w_GAM    8.739215e-01\n",
       "CO2t                       -2.280983e+01\n",
       "CS                          6.007250e+00\n",
       "CYTBD                       4.359899e+01\n",
       "ENO                         1.471614e+01\n",
       "EX_co2_e                    2.280983e+01\n",
       "EX_glc__D_e                -1.000000e+01\n",
       "EX_h_e                      1.753087e+01\n",
       "EX_h2o_e                    2.917583e+01\n",
       "EX_nh4_e                   -4.765319e+00\n",
       "EX_o2_e                    -2.179949e+01\n",
       "EX_pi_e                    -3.214895e+00\n",
       "FBA                         7.477382e+00\n",
       "FUM                         5.064376e+00\n",
       "G6PDH2r                     4.959985e+00\n",
       "GAPD                        1.602353e+01\n",
       "GLCpts                      1.000000e+01\n",
       "GLNS                        2.234617e-01\n",
       "GLNabc                      2.722410e-16\n",
       "GLUDy                      -4.541857e+00\n",
       "GND                         4.959985e+00\n",
       "H2Ot                       -2.917583e+01\n",
       "ICDHyr                      6.007250e+00\n",
       "MDH                         5.064376e+00\n",
       "NADH16                      3.853461e+01\n",
       "NH4t                        4.765319e+00\n",
       "O2t                         2.179949e+01\n",
       "PDH                         9.282533e+00\n",
       "PFK                         7.477382e+00\n",
       "PGI                         4.860861e+00\n",
       "PGK                        -1.602353e+01\n",
       "PGL                         4.959985e+00\n",
       "PGM                        -1.471614e+01\n",
       "PIt2r                       3.214895e+00\n",
       "PPC                         2.504309e+00\n",
       "PYK                         1.758177e+00\n",
       "RPE                         2.678482e+00\n",
       "RPI                        -2.281503e+00\n",
       "SUCDi                       5.064376e+00\n",
       "SUCOAS                     -5.064376e+00\n",
       "TALA                        1.496984e+00\n",
       "TKT1                        1.496984e+00\n",
       "TKT2                        1.181498e+00\n",
       "TPI                         7.477382e+00\n",
       "Name: fluxes, dtype: float64"
      ]
     },
     "execution_count": 39,
     "metadata": {},
<<<<<<< Updated upstream
     "execution_count": 12
=======
     "output_type": "execute_result"
>>>>>>> Stashed changes
    }
   ],
   "source": [
    "solution.fluxes[solution.fluxes != 0.]"
   ]
  },
  {
   "cell_type": "markdown",
   "metadata": {},
   "source": [
    "## Metabolic pathway visualizations with Escher"
   ]
  },
  {
   "cell_type": "markdown",
   "metadata": {},
   "source": [
    "It is quite tedious to try to interpret GSM flux predictions by looking at the raw numbers or statistics. One very useful approach to analyzing simulation results is to plot them on metabolic pathway maps. Luckily a very useful Python package exists for that purpose – [Escher](https://escher.github.io/#/) ([10.1371/journal.pcbi.1004321](http://dx.doi.org/10.1371/journal.pcbi.1004321))."
   ]
  },
  {
   "cell_type": "code",
<<<<<<< Updated upstream
   "execution_count": 11,
=======
   "execution_count": 40,
   "metadata": {},
   "outputs": [],
>>>>>>> Stashed changes
   "source": [
    "import escher"
   ]
  },
  {
   "cell_type": "markdown",
   "metadata": {},
   "source": [
    "You can watch the following [video](https://www.youtube.com/embed/qUipX-xzZjQ) to get an overview of Escher's functionality."
   ]
  },
  {
   "cell_type": "code",
<<<<<<< Updated upstream
   "execution_count": 2,
   "source": [
    "from IPython.display import IFrame\n",
    "IFrame(width=\"560\", height=\"315\", src=\"https://www.youtube.com/embed/qUipX-xzZjQ\")"
   ],
=======
   "execution_count": 41,
   "metadata": {},
>>>>>>> Stashed changes
   "outputs": [
    {
     "data": {
      "text/html": [
       "\n",
       "        <iframe\n",
       "            width=\"560\"\n",
       "            height=\"315\"\n",
       "            src=\"https://www.youtube.com/embed/qUipX-xzZjQ\"\n",
       "            frameborder=\"0\"\n",
       "            allowfullscreen\n",
       "        ></iframe>\n",
       "        "
      ],
      "text/plain": [
<<<<<<< Updated upstream
       "<IPython.lib.display.IFrame at 0x13360ff40>"
=======
       "<IPython.lib.display.IFrame at 0x12fa35e80>"
>>>>>>> Stashed changes
      ]
     },
     "execution_count": 41,
     "metadata": {},
<<<<<<< Updated upstream
     "execution_count": 2
=======
     "output_type": "execute_result"
>>>>>>> Stashed changes
    }
   ],
   "source": [
    "from IPython.display import IFrame\n",
    "IFrame(width=\"560\", height=\"315\", src=\"https://www.youtube.com/embed/qUipX-xzZjQ\")"
   ]
  },
  {
   "cell_type": "markdown",
   "metadata": {},
   "source": [
    "With the following you can display all available maps in escher (you can also load you're own which we are not going to cover here)."
   ]
  },
  {
   "cell_type": "code",
<<<<<<< Updated upstream
   "execution_count": 13,
   "source": [
    "escher.list_available_maps()"
   ],
=======
   "execution_count": 42,
   "metadata": {
    "scrolled": true
   },
>>>>>>> Stashed changes
   "outputs": [
    {
     "data": {
      "text/plain": [
       "[{'organism': 'Saccharomyces cerevisiae',\n",
       "  'map_name': 'iMM904.Central carbon metabolism'},\n",
       " {'organism': 'Homo sapiens',\n",
       "  'map_name': 'RECON1.Inositol retinol metabolism'},\n",
       " {'organism': 'Homo sapiens', 'map_name': 'RECON1.Glycolysis TCA PPP'},\n",
       " {'organism': 'Homo sapiens', 'map_name': 'RECON1.Tryptophan metabolism'},\n",
       " {'organism': 'Homo sapiens', 'map_name': 'RECON1.Carbohydrate metabolism'},\n",
       " {'organism': 'Homo sapiens',\n",
       "  'map_name': 'RECON1.Amino acid metabolism (partial)'},\n",
       " {'organism': 'Escherichia coli', 'map_name': 'iJO1366.Nucleotide metabolism'},\n",
       " {'organism': 'Escherichia coli',\n",
       "  'map_name': 'iJO1366.Fatty acid biosynthesis (saturated)'},\n",
       " {'organism': 'Escherichia coli',\n",
       "  'map_name': 'iJO1366.Nucleotide and histidine biosynthesis'},\n",
       " {'organism': 'Escherichia coli', 'map_name': 'e_coli_core.Core metabolism'},\n",
       " {'organism': 'Escherichia coli', 'map_name': 'iJO1366.Central metabolism'},\n",
       " {'organism': 'Escherichia coli',\n",
       "  'map_name': 'iJO1366.Fatty acid beta-oxidation'}]"
      ]
     },
     "execution_count": 42,
     "metadata": {},
<<<<<<< Updated upstream
     "execution_count": 13
=======
     "output_type": "execute_result"
>>>>>>> Stashed changes
    }
   ],
   "source": [
    "escher.list_available_maps()"
   ]
  },
  {
   "cell_type": "markdown",
   "metadata": {},
   "source": [
    "Let's display the map that corresponds to the _E. coli_ core model."
   ]
  },
  {
   "cell_type": "code",
<<<<<<< Updated upstream
   "execution_count": 8,
   "source": [],
   "outputs": [
    {
     "output_type": "stream",
     "name": "stdout",
     "text": [
      "zsh:1: command not found: wget\n"
     ]
    }
   ],
   "metadata": {}
  },
  {
   "cell_type": "code",
   "execution_count": 14,
   "source": [
    "escher.Builder('e_coli_core.Core metabolism')"
   ],
   "outputs": [
    {
     "output_type": "stream",
     "name": "stdout",
=======
   "execution_count": 43,
   "metadata": {},
   "outputs": [
    {
     "name": "stdout",
     "output_type": "stream",
>>>>>>> Stashed changes
     "text": [
      "Downloading Map from https://escher.github.io/1-0-0/6/maps/Escherichia%20coli/e_coli_core.Core%20metabolism.json\n"
     ]
    },
    {
<<<<<<< Updated upstream
     "output_type": "display_data",
     "data": {
      "application/vnd.jupyter.widget-view+json": {
       "version_major": 2,
       "version_minor": 0,
       "model_id": "74ecc3bd51114908a58f21e19d8b8245"
      },
      "text/plain": [
       "Builder()"
      ]
     },
     "metadata": {}
=======
     "ename": "Exception",
     "evalue": "display_in_notebook is deprecated. The Builder is now a Jupyter Widget, so you can return the Builder in a cell to see it, or use the IPython display function (see Escher docs for details)",
     "output_type": "error",
     "traceback": [
      "\u001b[0;31m---------------------------------------------------------------------------\u001b[0m",
      "\u001b[0;31mException\u001b[0m                                 Traceback (most recent call last)",
      "\u001b[0;32m/var/folders/z6/mxpxh4k56tv0h0ff41vmx7gdwtlpvp/T/ipykernel_4240/1872956366.py\u001b[0m in \u001b[0;36m<module>\u001b[0;34m\u001b[0m\n\u001b[0;32m----> 1\u001b[0;31m \u001b[0mescher\u001b[0m\u001b[0;34m.\u001b[0m\u001b[0mBuilder\u001b[0m\u001b[0;34m(\u001b[0m\u001b[0;34m'e_coli_core.Core metabolism'\u001b[0m\u001b[0;34m)\u001b[0m\u001b[0;34m.\u001b[0m\u001b[0mdisplay_in_notebook\u001b[0m\u001b[0;34m(\u001b[0m\u001b[0;34m)\u001b[0m\u001b[0;34m\u001b[0m\u001b[0;34m\u001b[0m\u001b[0m\n\u001b[0m",
      "\u001b[0;32m~/courses/course-materials/.venv_cellfactories/lib/python3.8/site-packages/escher/plots.py\u001b[0m in \u001b[0;36mdisplay_in_notebook\u001b[0;34m(self, *args, **kwargs)\u001b[0m\n\u001b[1;32m    581\u001b[0m \u001b[0;34m\u001b[0m\u001b[0m\n\u001b[1;32m    582\u001b[0m         \"\"\"\n\u001b[0;32m--> 583\u001b[0;31m         raise Exception(('display_in_notebook is deprecated. The Builder is '\n\u001b[0m\u001b[1;32m    584\u001b[0m                          \u001b[0;34m'now a Jupyter Widget, so you can return the '\u001b[0m\u001b[0;34m\u001b[0m\u001b[0;34m\u001b[0m\u001b[0m\n\u001b[1;32m    585\u001b[0m                          \u001b[0;34m'Builder in a cell to see it, or use the IPython '\u001b[0m\u001b[0;34m\u001b[0m\u001b[0;34m\u001b[0m\u001b[0m\n",
      "\u001b[0;31mException\u001b[0m: display_in_notebook is deprecated. The Builder is now a Jupyter Widget, so you can return the Builder in a cell to see it, or use the IPython display function (see Escher docs for details)"
     ]
>>>>>>> Stashed changes
    }
   ],
   "source": [
    "escher.Builder('e_coli_core.Core metabolism').display_in_notebook()"
   ]
  },
  {
   "cell_type": "markdown",
   "metadata": {},
   "source": [
    "Ok, now to the data visualization part. Escher can visualization gene, reaction, and metabolite-centric  data. Here an example of visualizing one flux and one metabolite concentration (Escher expect Python dictionaries as data input mapping data values to gene/reaction/metabolite identifiers)."
   ]
  },
  {
   "cell_type": "code",
<<<<<<< Updated upstream
   "execution_count": 12,
   "source": [
    "escher.Builder('e_coli_core.Core metabolism',\n",
    "               reaction_data={'TALA': 100})"
   ],
   "outputs": [
    {
     "output_type": "stream",
     "name": "stdout",
     "text": [
      "Downloading Map from https://escher.github.io/1-0-0/6/maps/Escherichia%20coli/e_coli_core.Core%20metabolism.json\n"
     ]
    },
    {
     "output_type": "display_data",
=======
   "execution_count": null,
   "metadata": {},
   "outputs": [
    {
>>>>>>> Stashed changes
     "data": {
      "application/vnd.jupyter.widget-view+json": {
       "version_major": 2,
       "version_minor": 0,
       "model_id": "e24252e83b8a4eefa0dc1efdb7fae597"
      },
      "text/plain": [
       "Builder(reaction_data={'TALA': 100})"
      ]
     },
<<<<<<< Updated upstream
     "metadata": {}
=======
     "execution_count": 44,
     "metadata": {},
     "output_type": "execute_result"
>>>>>>> Stashed changes
    }
   ],
   "source": [
    "escher.Builder('e_coli_core.Core metabolism',\n",
    "               reaction_data={'PGK': 100},\n",
    "               metabolite_data={'ATP': 20}).display_in_notebook()"
   ]
  },
  {
   "cell_type": "markdown",
   "metadata": {},
   "source": [
    "***\n",
    "**A.**\n",
    "\n",
    "* Visualize the computed fluxes (see above `solution.fluxes`) on the central carbon metabolism map.\n",
    "\n",
    "Hints:\n",
    "* You can convert a pandas Series into a dictionary using the `.to_dict()` method."
   ]
  },
  {
   "cell_type": "code",
   "execution_count": 15,
   "source": [
    "escher.Builder('e_coli_core.Core metabolism',\n",
    "               reaction_data=solution.fluxes.to_dict())\n"
   ],
   "outputs": [
    {
     "output_type": "stream",
     "name": "stdout",
     "text": [
      "Downloading Map from https://escher.github.io/1-0-0/6/maps/Escherichia%20coli/e_coli_core.Core%20metabolism.json\n"
     ]
    },
    {
     "output_type": "display_data",
     "data": {
      "application/vnd.jupyter.widget-view+json": {
       "version_major": 2,
       "version_minor": 0,
       "model_id": "143653aa3ba24b9b872549c97180f9b8"
      },
      "text/plain": [
       "Builder(reaction_data={'ACALD': 0.0, 'ACALDt': 0.0, 'ACKr': 0.0, 'ACONTa': 6.007249575350342, 'ACONTb': 6.0072…"
      ]
     },
     "metadata": {}
    }
   ],
   "metadata": {}
  },
  {
   "cell_type": "markdown",
   "metadata": {},
   "source": [
    "## Manipulating models"
   ]
  },
  {
   "cell_type": "markdown",
   "metadata": {},
   "source": [
    "### Making temporary changes to the model"
   ]
  },
  {
   "cell_type": "markdown",
   "metadata": {},
   "source": [
    "Usually one relies on making copies if objects need to be changed but the original state needs to be retained. Unfortunately, making copies of models is time consuming."
   ]
  },
  {
   "cell_type": "code",
<<<<<<< Updated upstream
   "execution_count": 22,
   "source": [
    "model.optimize()\n",
    "solution.reduced_costs.plot.hist()"
   ],
   "outputs": [
    {
     "output_type": "execute_result",
     "data": {
=======
   "execution_count": null,
   "metadata": {},
   "outputs": [
    {
     "data": {
      "text/html": [
       "<strong><em>Optimal</em> solution with objective value 0.874</strong><br><div>\n",
       "<style scoped>\n",
       "    .dataframe tbody tr th:only-of-type {\n",
       "        vertical-align: middle;\n",
       "    }\n",
       "\n",
       "    .dataframe tbody tr th {\n",
       "        vertical-align: top;\n",
       "    }\n",
       "\n",
       "    .dataframe thead th {\n",
       "        text-align: right;\n",
       "    }\n",
       "</style>\n",
       "<table border=\"1\" class=\"dataframe\">\n",
       "  <thead>\n",
       "    <tr style=\"text-align: right;\">\n",
       "      <th></th>\n",
       "      <th>fluxes</th>\n",
       "      <th>reduced_costs</th>\n",
       "    </tr>\n",
       "  </thead>\n",
       "  <tbody>\n",
       "    <tr>\n",
       "      <th>ACALD</th>\n",
       "      <td>0.000000</td>\n",
       "      <td>8.673617e-19</td>\n",
       "    </tr>\n",
       "    <tr>\n",
       "      <th>ACALDt</th>\n",
       "      <td>0.000000</td>\n",
       "      <td>0.000000e+00</td>\n",
       "    </tr>\n",
       "    <tr>\n",
       "      <th>ACKr</th>\n",
       "      <td>0.000000</td>\n",
       "      <td>-1.734723e-18</td>\n",
       "    </tr>\n",
       "    <tr>\n",
       "      <th>ACONTa</th>\n",
       "      <td>6.007250</td>\n",
       "      <td>0.000000e+00</td>\n",
       "    </tr>\n",
       "    <tr>\n",
       "      <th>ACONTb</th>\n",
       "      <td>6.007250</td>\n",
       "      <td>0.000000e+00</td>\n",
       "    </tr>\n",
       "    <tr>\n",
       "      <th>...</th>\n",
       "      <td>...</td>\n",
       "      <td>...</td>\n",
       "    </tr>\n",
       "    <tr>\n",
       "      <th>TALA</th>\n",
       "      <td>1.496984</td>\n",
       "      <td>0.000000e+00</td>\n",
       "    </tr>\n",
       "    <tr>\n",
       "      <th>THD2</th>\n",
       "      <td>0.000000</td>\n",
       "      <td>-2.546243e-03</td>\n",
       "    </tr>\n",
       "    <tr>\n",
       "      <th>TKT1</th>\n",
       "      <td>1.496984</td>\n",
       "      <td>0.000000e+00</td>\n",
       "    </tr>\n",
       "    <tr>\n",
       "      <th>TKT2</th>\n",
       "      <td>1.181498</td>\n",
       "      <td>0.000000e+00</td>\n",
       "    </tr>\n",
       "    <tr>\n",
       "      <th>TPI</th>\n",
       "      <td>7.477382</td>\n",
       "      <td>0.000000e+00</td>\n",
       "    </tr>\n",
       "  </tbody>\n",
       "</table>\n",
       "<p>95 rows × 2 columns</p>\n",
       "</div>"
      ],
>>>>>>> Stashed changes
      "text/plain": [
       "<AxesSubplot:ylabel='Frequency'>"
      ]
     },
     "execution_count": 45,
     "metadata": {},
<<<<<<< Updated upstream
     "execution_count": 22
    },
    {
     "output_type": "display_data",
     "data": {
      "image/png": "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",
      "text/plain": [
       "<Figure size 432x288 with 1 Axes>"
      ]
     },
     "metadata": {
      "needs_background": "light"
     }
=======
     "output_type": "execute_result"
>>>>>>> Stashed changes
    }
   ],
   "source": [
    "model.optimize()"
   ]
  },
  {
   "cell_type": "code",
<<<<<<< Updated upstream
   "execution_count": 17,
   "source": [
    "%%time\n",
    "copy_of_model = model.copy()"
   ],
=======
   "execution_count": null,
   "metadata": {},
>>>>>>> Stashed changes
   "outputs": [
    {
     "name": "stdout",
     "output_type": "stream",
     "text": [
      "CPU times: user 93 ms, sys: 31 ms, total: 124 ms\n",
      "Wall time: 137 ms\n"
     ]
    }
   ],
   "source": [
    "%%time\n",
    "copy_of_model = model.copy()"
   ]
  },
  {
   "cell_type": "markdown",
   "metadata": {},
   "source": [
    "Yes, even milliseconds add up pretty quickly if you need to run many simulations (e.g. if you need to knock out every single gene individually in the model to check if it is essential or not)."
   ]
  },
  {
   "cell_type": "code",
<<<<<<< Updated upstream
   "execution_count": 18,
   "source": [
    "%%time\n",
    "for gene in model.genes:\n",
    "    mutant = model.copy()\n",
    "    mutant.genes.get_by_id(gene.id).knock_out()"
   ],
=======
   "execution_count": null,
   "metadata": {},
>>>>>>> Stashed changes
   "outputs": [
    {
     "name": "stdout",
     "output_type": "stream",
     "text": [
      "CPU times: user 3.75 s, sys: 414 ms, total: 4.16 s\n",
      "Wall time: 4.24 s\n"
     ]
    }
   ],
   "source": [
    "%%time\n",
    "for gene in model.genes:\n",
    "    mutant = model.copy()\n",
    "    mutant.genes.get_by_id(gene.id).knock_out()"
   ]
  },
  {
   "cell_type": "markdown",
   "metadata": {},
   "source": [
    "For that reason cobrapy provides a mechanism that is less time consuming. Almost all methods that make changes to the mdoel such as knocking-out genes, reactions, adding or removing metabolites, reactions etc can be automatically reverted upon exit from a python context. How this works is probably best understood by looking at an example."
   ]
  },
  {
   "cell_type": "code",
   "execution_count": null,
   "metadata": {},
   "outputs": [
    {
     "name": "stdout",
     "output_type": "stream",
     "text": [
      "CPU times: user 40.2 ms, sys: 1.37 ms, total: 41.5 ms\n",
      "Wall time: 40.9 ms\n"
     ]
    }
   ],
   "source": [
    "%%time\n",
    "with model:\n",
    "    for gene in model.genes:\n",
    "        gene.knock_out()"
   ]
  },
  {
   "cell_type": "markdown",
   "metadata": {},
   "source": [
    "Here, the `with model` statements starts the context and changes done to the model one indentation level to the right, are automatically recorded. When that block finishes, the context manager is requested to roll-back all changes leaving the model looking exactly as it did before all the changes."
   ]
  },
  {
   "cell_type": "markdown",
   "metadata": {},
   "source": [
    "Changing flux bounds can as indicated also be done reversibly. For example let's set the lower and upper bound of phosphoglycerate kinase to 0 (effectively knocking out the reaction)."
   ]
  },
  {
   "cell_type": "code",
<<<<<<< Updated upstream
   "execution_count": 24,
   "source": [
    "with model:\n",
    "    model.reactions.PGK.bounds = 0, 0\n",
    "    print(\"PGK's bounds inside the with statement\")\n",
    "    print(model.reactions.PGK.lower_bound, model.reactions.PGK.bounds)\n",
    "    print('Mutant growth rate: ', model.optimize().objective_value)\n",
    "print(\"PGK's bounds outside the with statement\")\n",
    "print(model.reactions.PGK.bounds)\n",
    "print('Mutant growth rate: ', model.optimize().objective_value)"
   ],
=======
   "execution_count": null,
   "metadata": {},
>>>>>>> Stashed changes
   "outputs": [
    {
     "name": "stdout",
     "output_type": "stream",
     "text": [
      "PGK's bounds inside the with statement\n",
      "0 (0, 0)\n",
      "Mutant growth rate:  2.8739930571258186e-14\n",
      "PGK's bounds outside the with statement\n",
      "(-1000.0, 1000.0)\n",
      "Mutant growth rate:  0.8739215069684318\n"
     ]
    }
   ],
   "source": [
    "with model:\n",
    "    model.reactions.PGK.bounds = 0, 0\n",
    "    print(\"PGK's bounds inside the with statement\")\n",
    "    print(model.reactions.PGK.lower_bound, model.reactions.PGK.bounds)\n",
    "    print('Mutant growth rate: ', model.optimize().objective_value)\n",
    "print(\"PGK's bounds outside the with statement\")\n",
    "print(model.reactions.PGK.bounds)"
   ]
  },
  {
   "cell_type": "markdown",
   "metadata": {},
   "source": [
    "### Slim versus full optimize"
   ]
  },
  {
   "cell_type": "markdown",
   "metadata": {},
   "source": [
    "Mathematical solvers are now so fast that for many small to mid-size models computing the solution can be even faster than it takes us to collect the values from the solver and convert that to objects that are usable for in python. When we use `model.optimize` we gather values for all reactions and metabolites and that can take some time. If we are only interested in the flux value of a single reaction or the objective, it is faster to instead use `model.slim_optimize` which only does the optimization and returns the objective value leaving it up to you to fetch other values that you may need. For example, let's optimize and get the flux value of the `ATPM` reaction."
   ]
  },
  {
   "cell_type": "code",
<<<<<<< Updated upstream
   "execution_count": 25,
   "source": [
    "%%time\n",
    "solution = model.optimize()\n",
    "solution.fluxes['ATPM']"
   ],
=======
   "execution_count": null,
   "metadata": {},
>>>>>>> Stashed changes
   "outputs": [
    {
     "name": "stdout",
     "output_type": "stream",
     "text": [
      "CPU times: user 1.27 ms, sys: 13 µs, total: 1.28 ms\n",
      "Wall time: 1.29 ms\n"
     ]
    },
    {
     "data": {
      "text/plain": [
       "8.39"
      ]
     },
     "execution_count": 50,
     "metadata": {},
<<<<<<< Updated upstream
     "execution_count": 25
=======
     "output_type": "execute_result"
>>>>>>> Stashed changes
    }
   ],
   "source": [
    "%%time\n",
    "solution = model.optimize()\n",
    "solution.fluxes['ATPM']"
   ]
  },
  {
   "cell_type": "code",
<<<<<<< Updated upstream
   "execution_count": 26,
   "source": [
    "%%time\n",
    "model.slim_optimize()\n",
    "model.reactions.ATPM.flux"
   ],
=======
   "execution_count": null,
   "metadata": {},
>>>>>>> Stashed changes
   "outputs": [
    {
     "name": "stdout",
     "output_type": "stream",
     "text": [
      "CPU times: user 214 µs, sys: 9 µs, total: 223 µs\n",
      "Wall time: 229 µs\n"
     ]
    },
    {
     "data": {
      "text/plain": [
       "8.39"
      ]
     },
     "execution_count": 51,
     "metadata": {},
<<<<<<< Updated upstream
     "execution_count": 26
=======
     "output_type": "execute_result"
>>>>>>> Stashed changes
    }
   ],
   "source": [
    "%%time\n",
    "model.slim_optimize()\n",
    "model.reactions.ATPM.flux"
   ]
  },
  {
   "cell_type": "markdown",
   "metadata": {},
   "source": [
    "Again, the difference may seem small but when done thousands of times these small differences can start to become significant."
   ]
  },
  {
   "cell_type": "markdown",
   "metadata": {},
   "source": [
    "### Changing the objective function"
   ]
  },
  {
   "cell_type": "markdown",
   "metadata": {},
   "source": [
    "You can change the objective function like this (e.g. if you'd like to determine the maximum possible production rate of acetate)."
   ]
  },
  {
   "cell_type": "code",
<<<<<<< Updated upstream
   "execution_count": 28,
   "source": [
    "with model:\n",
    "    model.objective = model.reactions.EX_ac_e\n",
    "    solution = model.optimize()\n",
    "    print(solution.objective_value)\n",
    "    print(solution.fluxes.BIOMASS_Ecoli_core_w_GAM) # then there are no growth\n"
   ],
=======
   "execution_count": null,
   "metadata": {},
>>>>>>> Stashed changes
   "outputs": [
    {
     "name": "stdout",
     "output_type": "stream",
     "text": [
      "20.00000000000029\n",
      "0.0\n",
      "Downloading Map from https://escher.github.io/1-0-0/6/maps/Escherichia%20coli/e_coli_core.Core%20metabolism.json\n"
     ]
    }
   ],
   "source": [
    "with model:\n",
    "    model.objective = model.reactions.EX_ac_e\n",
    "    print(model.optimize().objective_value)"
   ]
  },
  {
   "cell_type": "markdown",
   "metadata": {},
   "source": [
    "### Changing the medium"
   ]
  },
  {
   "cell_type": "markdown",
   "metadata": {},
   "source": [
    "One can access the medium condition using `model.medium`. The indicated bound is the effective upper uptake bound. "
   ]
  },
  {
   "cell_type": "code",
<<<<<<< Updated upstream
   "execution_count": 27,
   "source": [
    "model.medium"
   ],
=======
   "execution_count": null,
   "metadata": {},
>>>>>>> Stashed changes
   "outputs": [
    {
     "data": {
      "text/plain": [
       "{'EX_co2_e': 1000.0,\n",
       " 'EX_glc__D_e': 10.0,\n",
       " 'EX_h_e': 1000.0,\n",
       " 'EX_h2o_e': 1000.0,\n",
       " 'EX_nh4_e': 1000.0,\n",
       " 'EX_o2_e': 1000.0,\n",
       " 'EX_pi_e': 1000.0}"
      ]
     },
     "execution_count": 53,
     "metadata": {},
<<<<<<< Updated upstream
     "execution_count": 27
=======
     "output_type": "execute_result"
>>>>>>> Stashed changes
    }
   ],
   "source": [
    "model.medium"
   ]
  },
  {
   "cell_type": "markdown",
   "metadata": {},
   "source": [
    "Changing the carbon source in the medium can be achieved by adjusting the flux bounds of the respective exchange reactions appropriately. For example, the following code block removes glucose from the medium and adds succinate."
   ]
  },
  {
   "cell_type": "code",
   "execution_count": null,
   "metadata": {},
   "outputs": [
    {
     "name": "stdout",
     "output_type": "stream",
     "text": [
      "0.3975630154277625\n"
     ]
    }
   ],
   "source": [
    "medium = model.medium\n",
    "with model:\n",
    "    medium['EX_glc__D_e'] = 0\n",
    "    medium['EX_succ_e'] = 10\n",
    "    model.medium = medium\n",
    "    solution = model.optimize()\n",
    "    print(solution.fluxes['BIOMASS_Ecoli_core_w_GAM'])"
   ]
  },
  {
   "cell_type": "markdown",
   "metadata": {},
   "source": [
    "Changing the carbon source to succinate led to a significant drop in growth rate."
   ]
  },
  {
   "cell_type": "markdown",
   "metadata": {},
   "source": [
    "***\n",
    "**B.**\n",
    "\n",
    "* Change the carbon source in the medium to a different carbon source. What is the difference in the growth rate observed?\n",
    "* How about growing E. coli under anaerobic conditions?\n",
    "* Now that you know how to compute the maximum production rate of a compound and you know how to manipulate the medium, calculate the theoretical maximum yield of succinate.\n",
    "\n",
    "Hints:\n",
    "* Remember that you can use model.reactions.query to find specific metabolites and reactions etc.\n",
    "* You can use `model.exchanges` to get an overview of available exchange reactions"
   ]
  },
  {
   "cell_type": "code",
   "execution_count": 35,
   "source": [
    "{rx.name : rx.id for rx in model.reactions.query('EX')}"
   ],
   "outputs": [
    {
     "output_type": "execute_result",
     "data": {
      "text/plain": [
       "{'Acetate exchange': 'EX_ac_e',\n",
       " 'Acetaldehyde exchange': 'EX_acald_e',\n",
       " '2-Oxoglutarate exchange': 'EX_akg_e',\n",
       " 'CO2 exchange': 'EX_co2_e',\n",
       " 'Ethanol exchange': 'EX_etoh_e',\n",
       " 'Formate exchange': 'EX_for_e',\n",
       " 'D-Fructose exchange': 'EX_fru_e',\n",
       " 'Fumarate exchange': 'EX_fum_e',\n",
       " 'D-Glucose exchange': 'EX_glc__D_e',\n",
       " 'L-Glutamine exchange': 'EX_gln__L_e',\n",
       " 'L-Glutamate exchange': 'EX_glu__L_e',\n",
       " 'H+ exchange': 'EX_h_e',\n",
       " 'H2O exchange': 'EX_h2o_e',\n",
       " 'D-lactate exchange': 'EX_lac__D_e',\n",
       " 'L-Malate exchange': 'EX_mal__L_e',\n",
       " 'Ammonia exchange': 'EX_nh4_e',\n",
       " 'O2 exchange': 'EX_o2_e',\n",
       " 'Phosphate exchange': 'EX_pi_e',\n",
       " 'Pyruvate exchange': 'EX_pyr_e',\n",
       " 'Succinate exchange': 'EX_succ_e'}"
      ]
     },
     "metadata": {},
     "execution_count": 35
    }
   ],
   "metadata": {}
  },
  {
   "cell_type": "code",
   "execution_count": 94,
   "source": [
    "model.reactions.get_by_id(carbon_source)"
   ],
   "outputs": [
    {
     "output_type": "execute_result",
     "data": {
      "text/html": [
       "\n",
       "        <table>\n",
       "            <tr>\n",
       "                <td><strong>Reaction identifier</strong></td><td>EX_gln__L_e</td>\n",
       "            </tr><tr>\n",
       "                <td><strong>Name</strong></td><td>L-Glutamine exchange</td>\n",
       "            </tr><tr>\n",
       "                <td><strong>Memory address</strong></td>\n",
       "                <td>0x0128f62490</td>\n",
       "            </tr><tr>\n",
       "                <td><strong>Stoichiometry</strong></td>\n",
       "                <td>\n",
       "                    <p style='text-align:right'>gln__L_e --></p>\n",
       "                    <p style='text-align:right'>L-Glutamine --></p>\n",
       "                </td>\n",
       "            </tr><tr>\n",
       "                <td><strong>GPR</strong></td><td></td>\n",
       "            </tr><tr>\n",
       "                <td><strong>Lower bound</strong></td><td>0.0</td>\n",
       "            </tr><tr>\n",
       "                <td><strong>Upper bound</strong></td><td>1000.0</td>\n",
       "            </tr>\n",
       "        </table>\n",
       "        "
      ],
      "text/plain": [
       "<Reaction EX_gln__L_e at 0x128f62490>"
      ]
     },
     "metadata": {},
     "execution_count": 94
    }
   ],
   "metadata": {}
  },
  {
   "cell_type": "code",
   "execution_count": 96,
   "source": [
    "medium = model.medium\n",
    "carbon_sources = ['EX_etoh_e',\"EX_gln__L_e\" ]\n",
    "with model:\n",
    "    for carbon_source in carbon_sources:\n",
    "        medium['EX_glc__D_e'] = 0\n",
    "        medium[carbon_source] = 10\n",
    "        model.medium = medium\n",
    "        solution = model.optimize()\n",
    "        print(carbon_source + \", growth rate:\")\n",
    "        print(solution.fluxes['BIOMASS_Ecoli_core_w_GAM'])\n",
    "        print(model.reactions.get_by_id(carbon_source).lower_bound) # We see that when EX reaction in the medium is changed this also changes the lower bound so uptake is possible\n",
    "        medium[carbon_source] = 0\n",
    "# escher.Builder('e_coli_core.Core metabolism',\n",
    "#                reaction_data=solution.fluxes.to_dict(), \n",
    "#                metabolite_data={\"gln__L_e\" : 100})"
   ],
   "outputs": [
    {
     "output_type": "stream",
     "name": "stdout",
     "text": [
      "EX_etoh_e, growth rate:\n",
      "0.33041980064072085\n",
      "-10\n",
      "EX_gln__L_e, growth rate:\n",
      "0.5592651285219309\n",
      "-10\n"
     ]
    }
   ],
   "metadata": {}
  },
  {
   "cell_type": "code",
   "execution_count": null,
   "source": [],
   "outputs": [],
   "metadata": {}
  },
  {
   "cell_type": "markdown",
   "metadata": {},
   "source": [
    "## Adding reactions and pathways"
   ]
  },
  {
   "cell_type": "code",
<<<<<<< Updated upstream
   "execution_count": 40,
=======
   "execution_count": null,
   "metadata": {},
   "outputs": [],
>>>>>>> Stashed changes
   "source": [
    "from cobra import Reaction, Metabolite"
   ]
  },
  {
   "cell_type": "markdown",
   "metadata": {},
   "source": [
    "Ok, let's add [cis-aconitic acid decarboxylase](https://www.kegg.jp/entry/R02243), a reaction that produces itaconic acid from the TCA cycle intertmediate cis-aconitate:\n",
    "\n",
    "    1 H(+) + 1 cis-aconitate = 1 CO2 + 1 itaconate"
   ]
  },
  {
   "cell_type": "code",
<<<<<<< Updated upstream
   "execution_count": 41,
=======
   "execution_count": null,
   "metadata": {},
   "outputs": [],
>>>>>>> Stashed changes
   "source": [
    "new_reaction = Reaction('CAADC')  # CAADC -> (c)is-(a)conitic (a)cid (d)e(c)arboxylase"
   ]
  },
  {
   "cell_type": "markdown",
   "metadata": {},
   "source": [
    "Itaconic acid (or itaconate depending on its protonation state) is not a native metabolite in _E. coli_. So, we need to create a new metabolite."
   ]
  },
  {
   "cell_type": "code",
<<<<<<< Updated upstream
   "execution_count": 42,
=======
   "execution_count": null,
   "metadata": {},
   "outputs": [],
>>>>>>> Stashed changes
   "source": [
    "itaconate = Metabolite(id='itaconate_c', compartment='c')"
   ]
  },
  {
   "cell_type": "markdown",
   "metadata": {},
   "source": [
    "The native metabolites in the reaction are:"
   ]
  },
  {
   "cell_type": "code",
<<<<<<< Updated upstream
   "execution_count": 43,
   "source": [
    "model.metabolites.acon_C_c"
   ],
=======
   "execution_count": null,
   "metadata": {},
>>>>>>> Stashed changes
   "outputs": [
    {
     "data": {
      "text/html": [
       "\n",
       "        <table>\n",
       "            <tr>\n",
       "                <td><strong>Metabolite identifier</strong></td><td>acon_C_c</td>\n",
       "            </tr><tr>\n",
       "                <td><strong>Name</strong></td><td>Cis-Aconitate</td>\n",
       "            </tr><tr>\n",
       "                <td><strong>Memory address</strong></td>\n",
       "                <td>0x0128eb3f40</td>\n",
       "            </tr><tr>\n",
       "                <td><strong>Formula</strong></td><td>C6H3O6</td>\n",
       "            </tr><tr>\n",
       "                <td><strong>Compartment</strong></td><td>c</td>\n",
       "            </tr><tr>\n",
       "                <td><strong>In 2 reaction(s)</strong></td><td>\n",
       "                    ACONTa, ACONTb</td>\n",
       "            </tr>\n",
       "        </table>"
      ],
      "text/plain": [
       "<Metabolite acon_C_c at 0x128eb3f40>"
      ]
     },
     "execution_count": 58,
     "metadata": {},
<<<<<<< Updated upstream
     "execution_count": 43
=======
     "output_type": "execute_result"
>>>>>>> Stashed changes
    }
   ],
   "source": [
    "model.metabolites.acon_C_c"
   ]
  },
  {
   "cell_type": "code",
<<<<<<< Updated upstream
   "execution_count": 44,
   "source": [
    "model.metabolites.h_c"
   ],
=======
   "execution_count": null,
   "metadata": {},
>>>>>>> Stashed changes
   "outputs": [
    {
     "data": {
      "text/html": [
       "\n",
       "        <table>\n",
       "            <tr>\n",
       "                <td><strong>Metabolite identifier</strong></td><td>h_c</td>\n",
       "            </tr><tr>\n",
       "                <td><strong>Name</strong></td><td>H+</td>\n",
       "            </tr><tr>\n",
       "                <td><strong>Memory address</strong></td>\n",
       "                <td>0x0128ec7280</td>\n",
       "            </tr><tr>\n",
       "                <td><strong>Formula</strong></td><td>H</td>\n",
       "            </tr><tr>\n",
       "                <td><strong>Compartment</strong></td><td>c</td>\n",
       "            </tr><tr>\n",
       "                <td><strong>In 35 reaction(s)</strong></td><td>\n",
       "                    FORt2, PPS, PFK, G6PDH2r, ATPM, CS, SUCCt2_2, ETOHt2r, PYRt2, BIOMASS_Ecoli_core_w_GAM, GLUSy, PIt2r, THD2, AKGt2r, ATPS4r, LDH_D, MDH, PPC, PGL, NADH16, ALCD2x, GLUDy, GLNabc, GLUt2r, ACALD, GAPD,...</td>\n",
       "            </tr>\n",
       "        </table>"
      ],
      "text/plain": [
       "<Metabolite h_c at 0x128ec7280>"
      ]
     },
     "execution_count": 59,
     "metadata": {},
<<<<<<< Updated upstream
     "execution_count": 44
=======
     "output_type": "execute_result"
>>>>>>> Stashed changes
    }
   ],
   "source": [
    "model.metabolites.h_c"
   ]
  },
  {
   "cell_type": "code",
   "execution_count": 45,
<<<<<<< Updated upstream
   "source": [
    "model.metabolites.co2_c"
   ],
=======
   "metadata": {},
>>>>>>> Stashed changes
   "outputs": [
    {
     "data": {
      "text/html": [
       "\n",
       "        <table>\n",
       "            <tr>\n",
       "                <td><strong>Metabolite identifier</strong></td><td>co2_c</td>\n",
       "            </tr><tr>\n",
       "                <td><strong>Name</strong></td><td>CO2</td>\n",
       "            </tr><tr>\n",
       "                <td><strong>Memory address</strong></td>\n",
<<<<<<< Updated upstream
       "                <td>0x0128eb3b50</td>\n",
=======
       "                <td>0x012f8205b0</td>\n",
>>>>>>> Stashed changes
       "            </tr><tr>\n",
       "                <td><strong>Formula</strong></td><td>CO2</td>\n",
       "            </tr><tr>\n",
       "                <td><strong>Compartment</strong></td><td>c</td>\n",
       "            </tr><tr>\n",
       "                <td><strong>In 9 reaction(s)</strong></td><td>\n",
<<<<<<< Updated upstream
       "                    PPC, AKGDH, CO2t, ICDHyr, ME1, PDH, PPCK, ME2, GND</td>\n",
=======
       "                    PPCK, GND, ME2, PPC, ICDHyr, CO2t, PDH, ME1, AKGDH</td>\n",
>>>>>>> Stashed changes
       "            </tr>\n",
       "        </table>"
      ],
      "text/plain": [
<<<<<<< Updated upstream
       "<Metabolite co2_c at 0x128eb3b50>"
=======
       "<Metabolite co2_c at 0x12f8205b0>"
>>>>>>> Stashed changes
      ]
     },
     "execution_count": 45,
     "metadata": {},
<<<<<<< Updated upstream
     "execution_count": 45
=======
     "output_type": "execute_result"
>>>>>>> Stashed changes
    }
   ],
   "source": [
    "model.metabolites.co2_c"
   ]
  },
  {
   "cell_type": "markdown",
   "metadata": {},
   "source": [
    "Now, we're going to specify the reaction's stoichiometry."
   ]
  },
  {
   "cell_type": "code",
<<<<<<< Updated upstream
   "execution_count": 46,
=======
   "execution_count": 47,
   "metadata": {},
   "outputs": [
    {
     "ename": "NameError",
     "evalue": "name 'new_reaction' is not defined",
     "output_type": "error",
     "traceback": [
      "\u001b[0;31m---------------------------------------------------------------------------\u001b[0m",
      "\u001b[0;31mNameError\u001b[0m                                 Traceback (most recent call last)",
      "\u001b[0;32m/var/folders/z6/mxpxh4k56tv0h0ff41vmx7gdwtlpvp/T/ipykernel_4240/1894567293.py\u001b[0m in \u001b[0;36m<module>\u001b[0;34m\u001b[0m\n\u001b[0;32m----> 1\u001b[0;31m new_reaction.add_metabolites({model.metabolites.h_c: -1,\n\u001b[0m\u001b[1;32m      2\u001b[0m                               \u001b[0mmodel\u001b[0m\u001b[0;34m.\u001b[0m\u001b[0mmetabolites\u001b[0m\u001b[0;34m.\u001b[0m\u001b[0macon_C_c\u001b[0m\u001b[0;34m:\u001b[0m \u001b[0;34m-\u001b[0m\u001b[0;36m1\u001b[0m\u001b[0;34m,\u001b[0m\u001b[0;34m\u001b[0m\u001b[0;34m\u001b[0m\u001b[0m\n\u001b[1;32m      3\u001b[0m                               \u001b[0mitaconate\u001b[0m\u001b[0;34m:\u001b[0m \u001b[0;36m1\u001b[0m\u001b[0;34m,\u001b[0m \u001b[0;31m# our newly created metabolites\u001b[0m\u001b[0;34m\u001b[0m\u001b[0;34m\u001b[0m\u001b[0m\n\u001b[1;32m      4\u001b[0m                               \u001b[0mmodel\u001b[0m\u001b[0;34m.\u001b[0m\u001b[0mmetabolites\u001b[0m\u001b[0;34m.\u001b[0m\u001b[0mco2_c\u001b[0m\u001b[0;34m:\u001b[0m \u001b[0;36m1\u001b[0m\u001b[0;34m\u001b[0m\u001b[0;34m\u001b[0m\u001b[0m\n\u001b[1;32m      5\u001b[0m                              })\n",
      "\u001b[0;31mNameError\u001b[0m: name 'new_reaction' is not defined"
     ]
    }
   ],
>>>>>>> Stashed changes
   "source": [
    "new_reaction.add_metabolites({model.metabolites.h_c: -1,\n",
    "                              model.metabolites.acon_C_c: -1,\n",
    "                              itaconate: 1, # our newly created metabolites\n",
    "                              model.metabolites.co2_c: 1\n",
    "                             })"
   ]
  },
  {
   "cell_type": "markdown",
   "metadata": {},
   "source": [
    "Printing the reaction reveals that the reaction reveals that formula is correct."
   ]
  },
  {
   "cell_type": "code",
<<<<<<< Updated upstream
   "execution_count": 47,
   "source": [
    "print(new_reaction.build_reaction_string())"
   ],
=======
   "execution_count": null,
   "metadata": {},
>>>>>>> Stashed changes
   "outputs": [
    {
     "name": "stdout",
     "output_type": "stream",
     "text": [
      "acon_C_c + h_c --> co2_c + itaconate_c\n"
     ]
    }
   ],
   "source": [
    "print(new_reaction.build_reaction_string())"
   ]
  },
  {
   "cell_type": "markdown",
   "metadata": {},
   "source": [
    "Now, let's add the new reaction to the model."
   ]
  },
  {
   "cell_type": "code",
<<<<<<< Updated upstream
   "execution_count": 48,
=======
   "execution_count": 63,
   "metadata": {},
   "outputs": [],
>>>>>>> Stashed changes
   "source": [
    "model.add_reactions([new_reaction])"
   ]
  },
  {
   "cell_type": "markdown",
   "metadata": {},
   "source": [
    "Quickly check that the reaction was indeed added to the model."
   ]
  },
  {
   "cell_type": "code",
<<<<<<< Updated upstream
   "execution_count": 49,
   "source": [
    "model.reactions.CAADC"
   ],
=======
   "execution_count": 64,
   "metadata": {},
>>>>>>> Stashed changes
   "outputs": [
    {
     "data": {
      "text/html": [
       "\n",
       "        <table>\n",
       "            <tr>\n",
       "                <td><strong>Reaction identifier</strong></td><td>CAADC</td>\n",
       "            </tr><tr>\n",
       "                <td><strong>Name</strong></td><td></td>\n",
       "            </tr><tr>\n",
       "                <td><strong>Memory address</strong></td>\n",
       "                <td>0x012b22a0d0</td>\n",
       "            </tr><tr>\n",
       "                <td><strong>Stoichiometry</strong></td>\n",
       "                <td>\n",
       "                    <p style='text-align:right'>acon_C_c + h_c --> co2_c + itaconate_c</p>\n",
       "                    <p style='text-align:right'>Cis-Aconitate + H+ --> CO2 +</p>\n",
       "                </td>\n",
       "            </tr><tr>\n",
       "                <td><strong>GPR</strong></td><td></td>\n",
       "            </tr><tr>\n",
       "                <td><strong>Lower bound</strong></td><td>0.0</td>\n",
       "            </tr><tr>\n",
       "                <td><strong>Upper bound</strong></td><td>1000.0</td>\n",
       "            </tr>\n",
       "        </table>\n",
       "        "
      ],
      "text/plain": [
       "<Reaction CAADC at 0x12b22a0d0>"
      ]
     },
     "execution_count": 64,
     "metadata": {},
<<<<<<< Updated upstream
     "execution_count": 49
=======
     "output_type": "execute_result"
>>>>>>> Stashed changes
    }
   ],
   "source": [
    "model.reactions.CAADC"
   ]
  },
  {
   "cell_type": "markdown",
   "metadata": {},
   "source": [
    "Let's produce some itaconic acid then!"
   ]
  },
  {
   "cell_type": "code",
<<<<<<< Updated upstream
   "execution_count": 50,
   "source": [
    "with model:\n",
    "    model.objective = model.reactions.CAADC\n",
    "    print(model.optimize().objective_value)"
   ],
=======
   "execution_count": 65,
   "metadata": {},
>>>>>>> Stashed changes
   "outputs": [
    {
     "name": "stdout",
     "output_type": "stream",
     "text": [
      "0.0\n"
     ]
    }
   ],
   "source": [
    "with model:\n",
    "    model.objective = model.reactions.CAADC\n",
    "    print(model.optimize().objective_value)"
   ]
  },
  {
   "cell_type": "code",
   "execution_count": 68,
   "source": [
    "itaconate_ex = Metabolite(id='itaconate_e', compartment='e')\n",
    "\n",
    "new_transport_reaction = Reaction('itaconate_transport')  # transport reaction\n",
    "new_transport_reaction.add_metabolites({\n",
    "                                itaconate: -1,\n",
    "                                itaconate_ex : 1\n",
    "                             })\n",
    "\n",
    "new_exchange_reaction = Reaction(id='Ex_itaconate_e', name=\"Itaconate exchange\")  # exchange reaction\n",
    "new_exchange_reaction.add_metabolites({\n",
    "                                itaconate_ex: -1\n",
    "                             })\n"
   ],
   "outputs": [],
   "metadata": {}
  },
  {
   "cell_type": "code",
   "execution_count": 70,
   "source": [
    "model.add_reactions([new_transport_reaction, new_exchange_reaction])"
   ],
   "outputs": [],
   "metadata": {}
  },
  {
   "cell_type": "code",
   "execution_count": 71,
   "source": [
    "with model:\n",
    "    model.objective = model.reactions.CAADC\n",
    "    print(model.optimize().objective_value)"
   ],
   "outputs": [
    {
     "output_type": "stream",
     "name": "stdout",
     "text": [
      "10.000000000000007\n"
     ]
    }
   ],
   "metadata": {}
  },
  {
   "cell_type": "markdown",
   "metadata": {},
   "source": [
    "***\n",
    "**C.**\n",
    "\n",
    "\n",
    "😞 What happened? Discuss with your partners. Why is there no production flux? How can this situation be resolved?\n",
    "\n",
    "Hints:\n",
    "* Revisit the steady-steady assumption that underlies also GSMs."
   ]
  },
  {
   "cell_type": "markdown",
   "metadata": {},
   "source": [
    "## Phenotype predictions"
   ]
  },
  {
   "cell_type": "markdown",
   "metadata": {},
   "source": [
    "### Gene deletions and gene essentiality"
   ]
  },
  {
   "cell_type": "markdown",
   "metadata": {},
   "source": [
    "#### Knocking out a single gene"
   ]
  },
  {
   "cell_type": "markdown",
   "metadata": {},
   "source": [
    "In the model, exactly one gene is associated with reaction with [phosphoglycerate kinase](http://bigg.ucsd.edu/universal/reactions/PGK) (PGK)."
   ]
  },
  {
   "cell_type": "code",
<<<<<<< Updated upstream
   "execution_count": 72,
   "source": [
    "model.reactions.PGK.genes"
   ],
=======
   "execution_count": 66,
   "metadata": {},
>>>>>>> Stashed changes
   "outputs": [
    {
     "data": {
      "text/plain": [
       "frozenset({<Gene b2926 at 0x128f260a0>})"
      ]
     },
     "execution_count": 66,
     "metadata": {},
<<<<<<< Updated upstream
     "execution_count": 72
=======
     "output_type": "execute_result"
>>>>>>> Stashed changes
    }
   ],
   "source": [
    "model.reactions.PGK.genes"
   ]
  },
  {
   "cell_type": "markdown",
   "metadata": {},
   "source": [
    "Checking the name of this gene in the model (the id is the Blattner number b2926), reveals that it is indeed [pgk](http://ecocyc.org/gene?orgid=ECOLI&id=EG10703)."
   ]
  },
  {
   "cell_type": "code",
<<<<<<< Updated upstream
   "execution_count": 73,
   "source": [
    "model.genes.b2926.name"
   ],
=======
   "execution_count": 67,
   "metadata": {},
>>>>>>> Stashed changes
   "outputs": [
    {
     "data": {
      "text/plain": [
       "'pgk'"
      ]
     },
     "execution_count": 67,
     "metadata": {},
<<<<<<< Updated upstream
     "execution_count": 73
=======
     "output_type": "execute_result"
>>>>>>> Stashed changes
    }
   ],
   "source": [
    "model.genes.b2926.name"
   ]
  },
  {
   "cell_type": "markdown",
   "metadata": {},
   "source": [
    "Is [pgk](http://ecocyc.org/gene?orgid=ECOLI&id=EG10703) essential? Let's find out."
   ]
  },
  {
   "cell_type": "code",
<<<<<<< Updated upstream
   "execution_count": 74,
   "source": [
    "with model as pgk_mutant:\n",
    "    pgk_mutant.genes.b2926.knock_out()\n",
    "    print(pgk_mutant.slim_optimize())"
   ],
=======
   "execution_count": 68,
   "metadata": {},
>>>>>>> Stashed changes
   "outputs": [
    {
     "name": "stdout",
     "output_type": "stream",
     "text": [
      "5.483295535765838e-16\n"
     ]
    }
   ],
   "source": [
    "with model as pgk_mutant:\n",
    "    pgk_mutant.genes.b2926.knock_out()\n",
    "    print(pgk_mutant.slim_optimize())"
   ]
  },
  {
   "cell_type": "markdown",
   "metadata": {},
   "source": [
    "Yes, it is."
   ]
  },
  {
   "cell_type": "markdown",
   "metadata": {},
   "source": [
    "#### Perform all possible single gene deletions"
   ]
  },
  {
   "cell_type": "markdown",
   "metadata": {},
   "source": [
    "Using a `for` loop allows to iterate over all genes in the model and knock out each one of them individually. We're using the model as a context to undo every gene deletion before proceeding to the next knockout."
   ]
  },
  {
   "cell_type": "code",
<<<<<<< Updated upstream
   "execution_count": 75,
=======
   "execution_count": 69,
   "metadata": {},
   "outputs": [],
>>>>>>> Stashed changes
   "source": [
    "essentiality = {}\n",
    "for gene in model.genes:\n",
    "    with model:\n",
    "        gene.knock_out()\n",
    "        essentiality[gene] = model.slim_optimize(error_value=0.)"
   ]
  },
  {
   "cell_type": "code",
<<<<<<< Updated upstream
   "execution_count": 76,
   "source": [
    "essentiality"
   ],
=======
   "execution_count": 70,
   "metadata": {},
>>>>>>> Stashed changes
   "outputs": [
    {
     "data": {
      "text/plain": [
       "{<Gene b0351 at 0x128efbdf0>: 0.8739215069684293,\n",
       " <Gene b1241 at 0x128efb070>: 0.8739215069684293,\n",
       " <Gene s0001 at 0x128efb040>: 0.21114065257211787,\n",
       " <Gene b1849 at 0x128efb0a0>: 0.87392150696843,\n",
       " <Gene b3115 at 0x128efbf40>: 0.87392150696843,\n",
       " <Gene b2296 at 0x128efbd30>: 0.87392150696843,\n",
       " <Gene b1276 at 0x128efbf70>: 0.87392150696843,\n",
       " <Gene b0118 at 0x128efbe50>: 0.87392150696843,\n",
       " <Gene b0474 at 0x128efbe80>: 0.87392150696843,\n",
       " <Gene b0116 at 0x128efbee0>: 0.7823510529477389,\n",
       " <Gene b0726 at 0x128efbdc0>: 0.8583074080226883,\n",
       " <Gene b0727 at 0x128efbeb0>: 0.8583074080226883,\n",
       " <Gene b2587 at 0x128efbf10>: 0.8739215069684305,\n",
       " <Gene b0356 at 0x128efbfd0>: 0.8739215069684305,\n",
       " <Gene b1478 at 0x128efbd90>: 0.8739215069684305,\n",
       " <Gene b3731 at 0x128efbfa0>: 0.37422987493311066,\n",
       " <Gene b3733 at 0x128f09280>: 0.37422987493311066,\n",
       " <Gene b3735 at 0x128f09160>: 0.37422987493311066,\n",
       " <Gene b3739 at 0x128f09070>: 0.873921506968429,\n",
       " <Gene b3732 at 0x128f09130>: 0.37422987493310983,\n",
       " <Gene b3737 at 0x128f09100>: 0.37422987493310983,\n",
       " <Gene b3736 at 0x128f091f0>: 0.37422987493310983,\n",
       " <Gene b3738 at 0x128f09220>: 0.37422987493310983,\n",
       " <Gene b3734 at 0x128f09250>: 0.37422987493310983,\n",
       " <Gene b0720 at 0x128f090a0>: -7.693375639651546e-17,\n",
       " <Gene b0979 at 0x128f091c0>: 0.8739215069684304,\n",
       " <Gene b0978 at 0x128f09190>: 0.8739215069684304,\n",
       " <Gene b0733 at 0x128f092b0>: 0.8739215069684304,\n",
       " <Gene b0734 at 0x128f092e0>: 0.8739215069684304,\n",
       " <Gene b2975 at 0x128f09310>: 0.8739215069684304,\n",
       " <Gene b3603 at 0x128f09340>: 0.8739215069684304,\n",
       " <Gene b2779 at 0x128f09370>: 4.952419106816669e-16,\n",
       " <Gene b2925 at 0x128f093a0>: 0.8739215069684325,\n",
       " <Gene b1773 at 0x128f093d0>: 0.8739215069684325,\n",
       " <Gene b2097 at 0x128f09400>: 0.8739215069684325,\n",
       " <Gene b3925 at 0x128f09430>: 0.8739215069684325,\n",
       " <Gene b4232 at 0x128f09460>: 0.8739215069684325,\n",
       " <Gene b0904 at 0x128f09490>: 0.8739215069684325,\n",
       " <Gene b2492 at 0x128f094c0>: 0.8739215069684325,\n",
       " <Gene b4151 at 0x128f094f0>: 0.8739215069684325,\n",
       " <Gene b4154 at 0x128f09520>: 0.8739215069684325,\n",
       " <Gene b4152 at 0x128f09550>: 0.8739215069684325,\n",
       " <Gene b4153 at 0x128f09580>: 0.8739215069684325,\n",
       " <Gene b1817 at 0x128f095b0>: 0.8739215069684325,\n",
       " <Gene b2415 at 0x128f095e0>: 0.0,\n",
       " <Gene b1818 at 0x128f09610>: 0.8739215069684343,\n",
       " <Gene b1819 at 0x128f09640>: 0.8739215069684343,\n",
       " <Gene b2416 at 0x128f09670>: 0.0,\n",
       " <Gene b4122 at 0x128f096a0>: 0.8739215069684304,\n",
       " <Gene b1612 at 0x128f096d0>: 0.8739215069684304,\n",
       " <Gene b1611 at 0x128f09700>: 0.8739215069684304,\n",
       " <Gene b3528 at 0x128f09730>: 0.8739215069684304,\n",
       " <Gene b1852 at 0x128f09760>: 0.8638133095040007,\n",
       " <Gene b1779 at 0x128f09790>: 6.577897517738432e-17,\n",
       " <Gene b1101 at 0x128f097c0>: 0.8739215069684313,\n",
       " <Gene b1621 at 0x128f097f0>: 0.8739215069684313,\n",
       " <Gene b2417 at 0x128f09820>: 0.8739215069684313,\n",
       " <Gene b3870 at 0x128f09850>: 0.8739215069684313,\n",
       " <Gene b1297 at 0x128f09880>: 0.8739215069684313,\n",
       " <Gene b0810 at 0x128f098b0>: 0.8739215069684313,\n",
       " <Gene b0809 at 0x128f098e0>: 0.8739215069684313,\n",
       " <Gene b0811 at 0x128f09910>: 0.8739215069684313,\n",
       " <Gene b1761 at 0x128f09940>: 0.8513885233462074,\n",
       " <Gene b1524 at 0x128f09970>: 0.8739215069684312,\n",
       " <Gene b1812 at 0x128f099a0>: 0.8739215069684312,\n",
       " <Gene b0485 at 0x128f099d0>: 0.8739215069684312,\n",
       " <Gene b3213 at 0x128f09a00>: 0.8739215069684312,\n",
       " <Gene b3212 at 0x128f09a30>: 0.8739215069684312,\n",
       " <Gene b4077 at 0x128f09a60>: 0.8739215069684312,\n",
       " <Gene b2029 at 0x128f09a90>: 0.8638133095040013,\n",
       " <Gene b0875 at 0x128f09ac0>: 0.8739215069684313,\n",
       " <Gene b1136 at 0x128f09af0>: 7.049577613020754e-16,\n",
       " <Gene b4015 at 0x128f09b20>: 0.8739215069684313,\n",
       " <Gene b2133 at 0x128f09b50>: 0.8739215069684313,\n",
       " <Gene b1380 at 0x128f09b80>: 0.8739215069684313,\n",
       " <Gene b4014 at 0x128f09bb0>: 0.8739215069684313,\n",
       " <Gene b2976 at 0x128f09be0>: 0.8739215069684313,\n",
       " <Gene b3236 at 0x128f09c10>: 0.8258192905969899,\n",
       " <Gene b1479 at 0x128f09c40>: 0.8739215069684316,\n",
       " <Gene b2463 at 0x128f09c70>: 0.8739215069684316,\n",
       " <Gene b2279 at 0x128f09ca0>: 0.21166294973531014,\n",
       " <Gene b2282 at 0x128f09cd0>: 0.21166294973531014,\n",
       " <Gene b2284 at 0x128f09d00>: 0.21166294973531014,\n",
       " <Gene b2287 at 0x128f09d30>: 0.21166294973531014,\n",
       " <Gene b2276 at 0x128f09d60>: 0.21166294973531014,\n",
       " <Gene b2278 at 0x128f09d90>: 0.21166294973531014,\n",
       " <Gene b2288 at 0x128f09dc0>: 0.21166294973531014,\n",
       " <Gene b2285 at 0x128f09df0>: 0.21166294973531014,\n",
       " <Gene b2280 at 0x128f09fa0>: 0.21166294973531014,\n",
       " <Gene b2281 at 0x128f09e80>: 0.21166294973531014,\n",
       " <Gene b2283 at 0x128f09e50>: 0.21166294973531014,\n",
       " <Gene b2286 at 0x128f09f70>: 0.21166294973531014,\n",
       " <Gene b2277 at 0x128f09ee0>: 0.21166294973531014,\n",
       " <Gene b1602 at 0x128f090d0>: 0.8739215069684321,\n",
       " <Gene b3962 at 0x128f09f10>: 0.8739215069684321,\n",
       " <Gene b1603 at 0x128f09eb0>: 0.8739215069684321,\n",
       " <Gene b0451 at 0x128f09040>: 0.8739215069684321,\n",
       " <Gene b0114 at 0x128f09fd0>: 0.7966959254309584,\n",
       " <Gene b0115 at 0x128f09f40>: 0.7966959254309584,\n",
       " <Gene b3916 at 0x128f09e20>: 0.8739215069684331,\n",
       " <Gene b1723 at 0x128f26280>: 0.8739215069684331,\n",
       " <Gene b3114 at 0x128f26160>: 0.8739215069684331,\n",
       " <Gene b3951 at 0x128f26070>: 0.8739215069684331,\n",
       " <Gene b0902 at 0x128f26130>: 0.8739215069684331,\n",
       " <Gene b2579 at 0x128f26100>: 0.8739215069684331,\n",
       " <Gene b0903 at 0x128f261f0>: 0.8739215069684331,\n",
       " <Gene b3952 at 0x128f26220>: 0.8739215069684331,\n",
       " <Gene b4025 at 0x128f26250>: 0.8631595522084208,\n",
       " <Gene b2926 at 0x128f260a0>: 2.6455282178658764e-16,\n",
       " <Gene b0767 at 0x128f261c0>: 0.8638133095040007,\n",
       " <Gene b3612 at 0x128f26190>: 0.8739215069684303,\n",
       " <Gene b4395 at 0x128f262b0>: 0.8739215069684303,\n",
       " <Gene b0755 at 0x128f262e0>: 0.8739215069684303,\n",
       " <Gene b2987 at 0x128f26310>: 0.8739215069684303,\n",
       " <Gene b3493 at 0x128f26340>: 0.8739215069684303,\n",
       " <Gene b3956 at 0x128f26370>: 0.8707448062160249,\n",
       " <Gene b3403 at 0x128f263a0>: 0.8739215069684303,\n",
       " <Gene b1702 at 0x128f263d0>: 0.8739215069684303,\n",
       " <Gene b2297 at 0x128f26400>: 0.8739215069684303,\n",
       " <Gene b2458 at 0x128f26430>: 0.8739215069684303,\n",
       " <Gene b1676 at 0x128f26460>: 0.8739215069684303,\n",
       " <Gene b1854 at 0x128f26490>: 0.8739215069684303,\n",
       " <Gene b4301 at 0x128f264c0>: 0.8739215069684303,\n",
       " <Gene b3386 at 0x128f264f0>: 0.8739215069684303,\n",
       " <Gene b2914 at 0x128f26520>: 0.8739215069684303,\n",
       " <Gene b4090 at 0x128f26550>: 0.8739215069684303,\n",
       " <Gene b0722 at 0x128f26580>: 0.8142975075325294,\n",
       " <Gene b0724 at 0x128f265b0>: 0.8142975075325294,\n",
       " <Gene b0723 at 0x128f265e0>: 0.8142975075325294,\n",
       " <Gene b0721 at 0x128f26610>: 0.8142975075325294,\n",
       " <Gene b0729 at 0x128f26640>: 0.8583074080226883,\n",
       " <Gene b0728 at 0x128f26670>: 0.8583074080226883,\n",
       " <Gene b0008 at 0x128f266a0>: 0.8739215069684303,\n",
       " <Gene b2464 at 0x128f266d0>: 0.8739215069684303,\n",
       " <Gene b2935 at 0x128f26700>: 0.8739215069684303,\n",
       " <Gene b2465 at 0x128f26730>: 0.8739215069684303,\n",
       " <Gene b3919 at 0x128f26760>: 0.7040369478590245}"
      ]
     },
     "execution_count": 70,
     "metadata": {},
<<<<<<< Updated upstream
     "execution_count": 76
=======
     "output_type": "execute_result"
>>>>>>> Stashed changes
    }
   ],
   "source": [
    "essentiality"
   ]
  },
  {
   "cell_type": "code",
<<<<<<< Updated upstream
   "execution_count": 79,
=======
   "execution_count": 71,
   "metadata": {
    "scrolled": true
   },
   "outputs": [],
>>>>>>> Stashed changes
   "source": [
    "import pandas as pd\n",
    "df = pd.DataFrame.from_dict(essentiality, orient='index')\n",
    "df = df.rename(columns={0: 'growth'})\n",
<<<<<<< Updated upstream
    "df = df.sort_values('growth')\n",
    "df.head()"
   ],
   "outputs": [
    {
     "output_type": "execute_result",
     "data": {
      "text/html": [
       "<div>\n",
       "<style scoped>\n",
       "    .dataframe tbody tr th:only-of-type {\n",
       "        vertical-align: middle;\n",
       "    }\n",
       "\n",
       "    .dataframe tbody tr th {\n",
       "        vertical-align: top;\n",
       "    }\n",
       "\n",
       "    .dataframe thead th {\n",
       "        text-align: right;\n",
       "    }\n",
       "</style>\n",
       "<table border=\"1\" class=\"dataframe\">\n",
       "  <thead>\n",
       "    <tr style=\"text-align: right;\">\n",
       "      <th></th>\n",
       "      <th>growth</th>\n",
       "    </tr>\n",
       "  </thead>\n",
       "  <tbody>\n",
       "    <tr>\n",
       "      <th>b0720</th>\n",
       "      <td>-7.693376e-17</td>\n",
       "    </tr>\n",
       "    <tr>\n",
       "      <th>b2415</th>\n",
       "      <td>0.000000e+00</td>\n",
       "    </tr>\n",
       "    <tr>\n",
       "      <th>b2416</th>\n",
       "      <td>0.000000e+00</td>\n",
       "    </tr>\n",
       "    <tr>\n",
       "      <th>b1779</th>\n",
       "      <td>6.577898e-17</td>\n",
       "    </tr>\n",
       "    <tr>\n",
       "      <th>b2926</th>\n",
       "      <td>2.645528e-16</td>\n",
       "    </tr>\n",
       "  </tbody>\n",
       "</table>\n",
       "</div>"
      ],
      "text/plain": [
       "             growth\n",
       "b0720 -7.693376e-17\n",
       "b2415  0.000000e+00\n",
       "b2416  0.000000e+00\n",
       "b1779  6.577898e-17\n",
       "b2926  2.645528e-16"
      ]
     },
     "metadata": {},
     "execution_count": 79
    }
   ],
   "metadata": {
    "scrolled": true
   }
=======
    "df = df.sort_values('growth')"
   ]
>>>>>>> Stashed changes
  },
  {
   "cell_type": "code",
   "execution_count": 72,
   "metadata": {},
   "outputs": [
    {
     "data": {
      "text/plain": [
       "<AxesSubplot:ylabel='Frequency'>"
      ]
     },
     "execution_count": 72,
     "metadata": {},
     "output_type": "execute_result"
    },
    {
     "data": {
      "image/png": "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",
      "text/plain": [
       "<Figure size 432x288 with 1 Axes>"
      ]
     },
     "metadata": {
      "needs_background": "light"
     },
     "output_type": "display_data"
    }
   ],
   "source": [
    "df.plot.hist()"
   ]
  },
  {
   "cell_type": "code",
<<<<<<< Updated upstream
   "execution_count": 80,
   "source": [
    "ax = df.plot.bar().axes\n",
    "ax.figure.set_size_inches(20, 9)"
   ],
=======
   "execution_count": 73,
   "metadata": {},
>>>>>>> Stashed changes
   "outputs": [
    {
     "data": {
      "image/png": "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",
      "text/plain": [
       "<Figure size 1440x648 with 1 Axes>"
      ]
     },
     "metadata": {
      "needs_background": "light"
     },
     "output_type": "display_data"
    }
   ],
   "source": [
    "ax = df.plot.bar().axes\n",
    "ax.figure.set_size_inches(20, 9)"
   ]
  },
  {
   "cell_type": "markdown",
   "metadata": {},
   "source": [
    "## Phenotypic phase plane analysis"
   ]
  },
  {
   "cell_type": "code",
<<<<<<< Updated upstream
   "execution_count": 81,
=======
   "execution_count": 74,
   "metadata": {},
   "outputs": [],
>>>>>>> Stashed changes
   "source": [
    "from cobra.flux_analysis.phenotype_phase_plane import production_envelope"
   ]
  },
  {
   "cell_type": "code",
<<<<<<< Updated upstream
   "execution_count": 82,
=======
   "execution_count": 75,
   "metadata": {},
   "outputs": [],
>>>>>>> Stashed changes
   "source": [
    "ppp_succ = production_envelope(model,\n",
    "                    reactions=[model.reactions.EX_glc__D_e],\n",
    "                    objective=model.reactions.BIOMASS_Ecoli_core_w_GAM)"
   ]
  },
  {
   "cell_type": "code",
<<<<<<< Updated upstream
   "execution_count": 21,
   "source": [
    "ppp_succ"
   ],
=======
   "execution_count": 76,
   "metadata": {},
>>>>>>> Stashed changes
   "outputs": [
    {
     "data": {
      "text/html": [
       "<div>\n",
       "<style scoped>\n",
       "    .dataframe tbody tr th:only-of-type {\n",
       "        vertical-align: middle;\n",
       "    }\n",
       "\n",
       "    .dataframe tbody tr th {\n",
       "        vertical-align: top;\n",
       "    }\n",
       "\n",
       "    .dataframe thead th {\n",
       "        text-align: right;\n",
       "    }\n",
       "</style>\n",
       "<table border=\"1\" class=\"dataframe\">\n",
       "  <thead>\n",
       "    <tr style=\"text-align: right;\">\n",
       "      <th></th>\n",
       "      <th>carbon_source</th>\n",
       "      <th>flux_minimum</th>\n",
       "      <th>carbon_yield_minimum</th>\n",
       "      <th>mass_yield_minimum</th>\n",
       "      <th>flux_maximum</th>\n",
       "      <th>carbon_yield_maximum</th>\n",
       "      <th>mass_yield_maximum</th>\n",
       "      <th>EX_glc__D_e</th>\n",
       "    </tr>\n",
       "  </thead>\n",
       "  <tbody>\n",
       "    <tr>\n",
       "      <th>0</th>\n",
       "      <td>EX_glc__D_e</td>\n",
       "      <td>0.0</td>\n",
       "      <td>0.0</td>\n",
       "      <td>NaN</td>\n",
       "      <td>0.873922</td>\n",
       "      <td>1.584745e+01</td>\n",
       "      <td>NaN</td>\n",
       "      <td>-10.000000</td>\n",
       "    </tr>\n",
       "    <tr>\n",
       "      <th>1</th>\n",
       "      <td>EX_glc__D_e</td>\n",
       "      <td>0.0</td>\n",
       "      <td>0.0</td>\n",
       "      <td>NaN</td>\n",
       "      <td>0.827990</td>\n",
       "      <td>1.580658e+01</td>\n",
       "      <td>NaN</td>\n",
       "      <td>-9.498917</td>\n",
       "    </tr>\n",
       "    <tr>\n",
       "      <th>2</th>\n",
       "      <td>EX_glc__D_e</td>\n",
       "      <td>0.0</td>\n",
       "      <td>0.0</td>\n",
       "      <td>NaN</td>\n",
       "      <td>0.782058</td>\n",
       "      <td>1.576115e+01</td>\n",
       "      <td>NaN</td>\n",
       "      <td>-8.997835</td>\n",
       "    </tr>\n",
       "    <tr>\n",
       "      <th>3</th>\n",
       "      <td>EX_glc__D_e</td>\n",
       "      <td>0.0</td>\n",
       "      <td>0.0</td>\n",
       "      <td>NaN</td>\n",
       "      <td>0.736127</td>\n",
       "      <td>1.571037e+01</td>\n",
       "      <td>NaN</td>\n",
       "      <td>-8.496752</td>\n",
       "    </tr>\n",
       "    <tr>\n",
       "      <th>4</th>\n",
       "      <td>EX_glc__D_e</td>\n",
       "      <td>0.0</td>\n",
       "      <td>0.0</td>\n",
       "      <td>NaN</td>\n",
       "      <td>0.690195</td>\n",
       "      <td>1.565323e+01</td>\n",
       "      <td>NaN</td>\n",
       "      <td>-7.995669</td>\n",
       "    </tr>\n",
       "    <tr>\n",
       "      <th>5</th>\n",
       "      <td>EX_glc__D_e</td>\n",
       "      <td>0.0</td>\n",
       "      <td>0.0</td>\n",
       "      <td>NaN</td>\n",
       "      <td>0.644263</td>\n",
       "      <td>1.558844e+01</td>\n",
       "      <td>NaN</td>\n",
       "      <td>-7.494586</td>\n",
       "    </tr>\n",
       "    <tr>\n",
       "      <th>6</th>\n",
       "      <td>EX_glc__D_e</td>\n",
       "      <td>0.0</td>\n",
       "      <td>0.0</td>\n",
       "      <td>NaN</td>\n",
       "      <td>0.598332</td>\n",
       "      <td>1.551437e+01</td>\n",
       "      <td>NaN</td>\n",
       "      <td>-6.993504</td>\n",
       "    </tr>\n",
       "    <tr>\n",
       "      <th>7</th>\n",
       "      <td>EX_glc__D_e</td>\n",
       "      <td>0.0</td>\n",
       "      <td>0.0</td>\n",
       "      <td>NaN</td>\n",
       "      <td>0.552400</td>\n",
       "      <td>1.542887e+01</td>\n",
       "      <td>NaN</td>\n",
       "      <td>-6.492421</td>\n",
       "    </tr>\n",
       "    <tr>\n",
       "      <th>8</th>\n",
       "      <td>EX_glc__D_e</td>\n",
       "      <td>0.0</td>\n",
       "      <td>0.0</td>\n",
       "      <td>NaN</td>\n",
       "      <td>0.506469</td>\n",
       "      <td>1.532906e+01</td>\n",
       "      <td>NaN</td>\n",
       "      <td>-5.991338</td>\n",
       "    </tr>\n",
       "    <tr>\n",
       "      <th>9</th>\n",
       "      <td>EX_glc__D_e</td>\n",
       "      <td>0.0</td>\n",
       "      <td>0.0</td>\n",
       "      <td>NaN</td>\n",
       "      <td>0.460537</td>\n",
       "      <td>1.521104e+01</td>\n",
       "      <td>NaN</td>\n",
       "      <td>-5.490256</td>\n",
       "    </tr>\n",
       "    <tr>\n",
       "      <th>10</th>\n",
       "      <td>EX_glc__D_e</td>\n",
       "      <td>0.0</td>\n",
       "      <td>0.0</td>\n",
       "      <td>NaN</td>\n",
       "      <td>0.414605</td>\n",
       "      <td>1.506930e+01</td>\n",
       "      <td>NaN</td>\n",
       "      <td>-4.989173</td>\n",
       "    </tr>\n",
       "    <tr>\n",
       "      <th>11</th>\n",
       "      <td>EX_glc__D_e</td>\n",
       "      <td>0.0</td>\n",
       "      <td>0.0</td>\n",
       "      <td>NaN</td>\n",
       "      <td>0.368674</td>\n",
       "      <td>1.489593e+01</td>\n",
       "      <td>NaN</td>\n",
       "      <td>-4.488090</td>\n",
       "    </tr>\n",
       "    <tr>\n",
       "      <th>12</th>\n",
       "      <td>EX_glc__D_e</td>\n",
       "      <td>0.0</td>\n",
       "      <td>0.0</td>\n",
       "      <td>NaN</td>\n",
       "      <td>0.322742</td>\n",
       "      <td>1.467897e+01</td>\n",
       "      <td>NaN</td>\n",
       "      <td>-3.987008</td>\n",
       "    </tr>\n",
       "    <tr>\n",
       "      <th>13</th>\n",
       "      <td>EX_glc__D_e</td>\n",
       "      <td>0.0</td>\n",
       "      <td>0.0</td>\n",
       "      <td>NaN</td>\n",
       "      <td>0.276810</td>\n",
       "      <td>1.439963e+01</td>\n",
       "      <td>NaN</td>\n",
       "      <td>-3.485925</td>\n",
       "    </tr>\n",
       "    <tr>\n",
       "      <th>14</th>\n",
       "      <td>EX_glc__D_e</td>\n",
       "      <td>0.0</td>\n",
       "      <td>0.0</td>\n",
       "      <td>NaN</td>\n",
       "      <td>0.230879</td>\n",
       "      <td>1.402651e+01</td>\n",
       "      <td>NaN</td>\n",
       "      <td>-2.984842</td>\n",
       "    </tr>\n",
       "    <tr>\n",
       "      <th>15</th>\n",
       "      <td>EX_glc__D_e</td>\n",
       "      <td>0.0</td>\n",
       "      <td>0.0</td>\n",
       "      <td>NaN</td>\n",
       "      <td>0.184947</td>\n",
       "      <td>1.350284e+01</td>\n",
       "      <td>NaN</td>\n",
       "      <td>-2.483759</td>\n",
       "    </tr>\n",
       "    <tr>\n",
       "      <th>16</th>\n",
       "      <td>EX_glc__D_e</td>\n",
       "      <td>0.0</td>\n",
       "      <td>0.0</td>\n",
       "      <td>NaN</td>\n",
       "      <td>0.139016</td>\n",
       "      <td>1.271448e+01</td>\n",
       "      <td>NaN</td>\n",
       "      <td>-1.982677</td>\n",
       "    </tr>\n",
       "    <tr>\n",
       "      <th>17</th>\n",
       "      <td>EX_glc__D_e</td>\n",
       "      <td>0.0</td>\n",
       "      <td>0.0</td>\n",
       "      <td>NaN</td>\n",
       "      <td>0.093084</td>\n",
       "      <td>1.139286e+01</td>\n",
       "      <td>NaN</td>\n",
       "      <td>-1.481594</td>\n",
       "    </tr>\n",
       "    <tr>\n",
       "      <th>18</th>\n",
       "      <td>EX_glc__D_e</td>\n",
       "      <td>0.0</td>\n",
       "      <td>0.0</td>\n",
       "      <td>NaN</td>\n",
       "      <td>0.046574</td>\n",
       "      <td>8.613386e+00</td>\n",
       "      <td>NaN</td>\n",
       "      <td>-0.980511</td>\n",
       "    </tr>\n",
       "    <tr>\n",
       "      <th>19</th>\n",
       "      <td>EX_glc__D_e</td>\n",
       "      <td>0.0</td>\n",
       "      <td>0.0</td>\n",
       "      <td>NaN</td>\n",
       "      <td>0.000000</td>\n",
       "      <td>4.426724e-13</td>\n",
       "      <td>NaN</td>\n",
       "      <td>-0.479429</td>\n",
       "    </tr>\n",
       "  </tbody>\n",
       "</table>\n",
       "</div>"
      ],
      "text/plain": [
       "   carbon_source  flux_minimum  carbon_yield_minimum  mass_yield_minimum  \\\n",
       "0    EX_glc__D_e           0.0                   0.0                 NaN   \n",
       "1    EX_glc__D_e           0.0                   0.0                 NaN   \n",
       "2    EX_glc__D_e           0.0                   0.0                 NaN   \n",
       "3    EX_glc__D_e           0.0                   0.0                 NaN   \n",
       "4    EX_glc__D_e           0.0                   0.0                 NaN   \n",
       "5    EX_glc__D_e           0.0                   0.0                 NaN   \n",
       "6    EX_glc__D_e           0.0                   0.0                 NaN   \n",
       "7    EX_glc__D_e           0.0                   0.0                 NaN   \n",
       "8    EX_glc__D_e           0.0                   0.0                 NaN   \n",
       "9    EX_glc__D_e           0.0                   0.0                 NaN   \n",
       "10   EX_glc__D_e           0.0                   0.0                 NaN   \n",
       "11   EX_glc__D_e           0.0                   0.0                 NaN   \n",
       "12   EX_glc__D_e           0.0                   0.0                 NaN   \n",
       "13   EX_glc__D_e           0.0                   0.0                 NaN   \n",
       "14   EX_glc__D_e           0.0                   0.0                 NaN   \n",
       "15   EX_glc__D_e           0.0                   0.0                 NaN   \n",
       "16   EX_glc__D_e           0.0                   0.0                 NaN   \n",
       "17   EX_glc__D_e           0.0                   0.0                 NaN   \n",
       "18   EX_glc__D_e           0.0                   0.0                 NaN   \n",
       "19   EX_glc__D_e           0.0                   0.0                 NaN   \n",
       "\n",
       "    flux_maximum  carbon_yield_maximum  mass_yield_maximum  EX_glc__D_e  \n",
       "0       0.873922          1.584745e+01                 NaN   -10.000000  \n",
       "1       0.827990          1.580658e+01                 NaN    -9.498917  \n",
       "2       0.782058          1.576115e+01                 NaN    -8.997835  \n",
       "3       0.736127          1.571037e+01                 NaN    -8.496752  \n",
       "4       0.690195          1.565323e+01                 NaN    -7.995669  \n",
       "5       0.644263          1.558844e+01                 NaN    -7.494586  \n",
       "6       0.598332          1.551437e+01                 NaN    -6.993504  \n",
       "7       0.552400          1.542887e+01                 NaN    -6.492421  \n",
       "8       0.506469          1.532906e+01                 NaN    -5.991338  \n",
       "9       0.460537          1.521104e+01                 NaN    -5.490256  \n",
       "10      0.414605          1.506930e+01                 NaN    -4.989173  \n",
       "11      0.368674          1.489593e+01                 NaN    -4.488090  \n",
       "12      0.322742          1.467897e+01                 NaN    -3.987008  \n",
       "13      0.276810          1.439963e+01                 NaN    -3.485925  \n",
       "14      0.230879          1.402651e+01                 NaN    -2.984842  \n",
       "15      0.184947          1.350284e+01                 NaN    -2.483759  \n",
       "16      0.139016          1.271448e+01                 NaN    -1.982677  \n",
       "17      0.093084          1.139286e+01                 NaN    -1.481594  \n",
       "18      0.046574          8.613386e+00                 NaN    -0.980511  \n",
       "19      0.000000          4.426724e-13                 NaN    -0.479429  "
      ]
     },
     "execution_count": 76,
     "metadata": {},
<<<<<<< Updated upstream
     "execution_count": 21
=======
     "output_type": "execute_result"
>>>>>>> Stashed changes
    }
   ],
   "source": [
    "ppp_succ"
   ]
  },
  {
   "cell_type": "code",
<<<<<<< Updated upstream
   "execution_count": 86,
   "source": [
    "ppp_succ.plot(x='EX_glc__D_e', y='flux_maximum')"
   ],
=======
   "execution_count": 77,
   "metadata": {},
>>>>>>> Stashed changes
   "outputs": [
    {
     "data": {
      "text/plain": [
       "<AxesSubplot:xlabel='EX_glc__D_e'>"
      ]
     },
     "execution_count": 77,
     "metadata": {},
<<<<<<< Updated upstream
     "execution_count": 86
=======
     "output_type": "execute_result"
>>>>>>> Stashed changes
    },
    {
     "data": {
      "image/png": "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",
      "text/plain": [
       "<Figure size 432x288 with 1 Axes>"
      ]
     },
     "metadata": {
      "needs_background": "light"
     },
     "output_type": "display_data"
    }
   ],
   "source": [
    "ppp_succ.plot(x='EX_glc__D_e', y='flux_maximum')"
   ]
  },
  {
   "cell_type": "markdown",
   "metadata": {},
   "source": [
    "***\n",
    "**D.**\n",
    "\n",
    "Use `production_envelope` to determine the optimal O2 uptake rate.\n",
    "***"
   ]
  },
  {
   "cell_type": "code",
   "execution_count": 90,
   "source": [
    "ppp_o2 = production_envelope(model,\n",
    "                    reactions=[model.reactions.EX_o2_e],\n",
    "                    objective=model.reactions.BIOMASS_Ecoli_core_w_GAM)\n",
    "ppp_o2.plot(x='EX_o2_e', y='flux_maximum')"
   ],
   "outputs": [
    {
     "output_type": "execute_result",
     "data": {
      "text/plain": [
       "<AxesSubplot:xlabel='EX_o2_e'>"
      ]
     },
     "metadata": {},
     "execution_count": 90
    },
    {
     "output_type": "display_data",
     "data": {
      "image/png": "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",
      "text/plain": [
       "<Figure size 432x288 with 1 Axes>"
      ]
     },
     "metadata": {
      "needs_background": "light"
     }
    }
   ],
   "metadata": {}
  },
  {
   "cell_type": "code",
   "execution_count": null,
   "metadata": {},
   "outputs": [],
   "source": []
  }
 ],
 "metadata": {
  "interpreter": {
   "hash": "bb2bf0c01b29514be642652953b1e0c74805adab203b9b4822521755c7a4c064"
  },
  "kernelspec": {
   "display_name": "Python 3.8.5 64-bit ('.venv_cellfactories': venv)",
   "name": "python3"
  },
  "language_info": {
   "codemirror_mode": {
    "name": "ipython",
    "version": 3
   },
   "file_extension": ".py",
   "mimetype": "text/x-python",
   "name": "python",
   "nbconvert_exporter": "python",
   "pygments_lexer": "ipython3",
   "version": "3.8.5"
  }
 },
 "nbformat": 4,
 "nbformat_minor": 4
}
