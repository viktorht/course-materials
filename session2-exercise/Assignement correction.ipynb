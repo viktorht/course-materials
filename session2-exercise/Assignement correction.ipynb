{
 "cells": [
  {
   "cell_type": "code",
   "execution_count": 16,
   "metadata": {},
   "outputs": [
    {
     "name": "stdout",
     "output_type": "stream",
     "text": [
      "0.16585365853658537\n",
      "0.6521739130434783\n",
      "0.07531790022823606\n"
     ]
    }
   ],
   "source": [
    "glucose = 20 # g/L\n",
    "biomass = 2.74-0.02 # gDW/L\n",
    "ethanol = 10 # g/L\n",
    "glycerol = 1.54 # g/L\n",
    "\n",
    "mw_glucose = 30 #g/Cmol\n",
    "mw_biomass = 24.6 #g/Cmol \n",
    "mw_ethanol = 23 # g/Cmol \n",
    "mw_glycerol = 30.67 # g/Cmol\n",
    "\n",
    "c_glucose = glucose/30  # 0.67 Cmol glucose/L\n",
    "c_biomass = (2.74-0.02)/24.6 # 0.11 Cmol biomass/L \n",
    "c_ethanol = ethanol/23 # 0.43 Cmol ethanol/L \n",
    "c_glycerol = glycerol/30.67 # 0.05Cmol glycerol/L\n",
    "\n",
    "\n",
    "# Assign your solutions to the following variables (replace _ with your solutions)\n",
    "Y_sx = c_biomass / c_glucose\n",
    "Y_se = c_ethanol / c_glucose \n",
    "Y_sg = c_glycerol / c_glucose \n",
    "\n",
    "print(Y_sx)\n",
    "print(Y_se)\n",
    "print(Y_sg)\n"
   ]
  },
  {
   "cell_type": "code",
   "execution_count": 17,
   "metadata": {},
   "outputs": [
    {
     "name": "stdout",
     "output_type": "stream",
     "text": [
      "0.10665452819170027\n"
     ]
    }
   ],
   "source": [
    "Y_sc = 1 - Y_sx - Y_se - Y_sg\n",
    "print(Y_sc)"
   ]
  },
  {
   "cell_type": "markdown",
   "metadata": {},
   "source": [
    "As there are no calculations I cannot see what went wrong, but the correct answer required first to calculate the theoretical titer of CO2 in C-mol, i.e. Y_sc * cmol_glc = 0.071 cmol_co2/L. Then convert that to g_co2/L by 0.071 cmol_co2/L * 44 g_co2/cmol_co2 = 3.128 g_co2/L."
   ]
  },
  {
   "cell_type": "markdown",
   "metadata": {},
   "source": [
    "Good job, I have two suggestions. First, define a variable for the different quantities and use a comment to specify the unit, e.g. MWGlucose = 30 # g_glc / C-mol_glc. Second, in your units specify grams or C-mol of what? As I did before g_glc specifies that this is grams of glucose. This helps me keeping track of yield coefficients e.g. 2 g_glc/g_biomass."
   ]
  },
  {
   "cell_type": "markdown",
   "metadata": {},
   "source": [
    "Good job. I just have a tiny suggestion that often helps me. Specify grams or C-mol of what? For example, g_glc specifies that this is grams of glucose. This helps me keep track of yield coefficients e.g. 2 g_glc/g_biomass."
   ]
  },
  {
   "cell_type": "code",
   "execution_count": 21,
   "metadata": {},
   "outputs": [
    {
     "name": "stdout",
     "output_type": "stream",
     "text": [
      "Non-rounded Ysc 3.1285328269565413\n",
      "Rounded Ysc 3.109333333333333\n"
     ]
    }
   ],
   "source": [
    "print(\"Non-rounded Ysc\", str(Y_sc * c_glucose *44))\n",
    "print(\"Rounded Ysc\", str(0.106 * c_glucose *44))"
   ]
  },
  {
   "cell_type": "markdown",
   "metadata": {},
   "source": [
    "The carbon balance uses that the carbon added to the culture has to be converted into product or biomass. The assignment tells you to assume that the cell only produces co2, ethanol, glycerol and biomass. The yield coefficients tell you how much of something that is produced by 1 c-mol of glucose, e.g. Yse tell you how much ethanol is produced by 1"
   ]
  },
  {
   "cell_type": "markdown",
   "metadata": {},
   "source": [
    "Y_sc = 1 - Y_sx - Y_se - Y_sg # co2 yield coefficient in c-mol_co2 / c-mol_glc\n",
    "co2_produced = Y_sc * c_glucose * 44.01 #  g_co2 / L = (c-mol_co2 / c-mol_glc) * (c-mol_glc/L) * (g_co2/c-mol_co2)"
   ]
  },
  {
   "cell_type": "code",
   "execution_count": 22,
   "metadata": {},
   "outputs": [],
   "source": [
    "# Add your calculations here ...\n",
    "# The yields are given by d_product/d_glucose\n",
    "d_glucose = 20 - 0          #g/L\n",
    "d_biomass = 2.74 - 0.02     #g DW/l\n",
    "d_ethanol = 10 - 0          #g/l\n",
    "d_glycerol = 1.54           #g/l\n",
    "\n",
    "Y_sx_mass = d_biomass / d_glucose\n",
    "Y_se_mass = d_ethanol / d_glucose\n",
    "Y_sg_mass = d_glycerol / d_glucose\n",
    "\n",
    "#calculate cmol molecular weights\n",
    "\n",
    "C = 12.01\n",
    "H = 1.008\n",
    "O = 16.00\n",
    "N = 14.01\n",
    "\n",
    "molw_cmol = dict()\n",
    "molw_cmol[\"biomass\"] = C + H*1.8 + O*0.5 + N*0.2\n",
    "molw_cmol[\"ethanol\"] = (C*2 + H*5 + O + H)/2\n",
    "molw_cmol[\"glycerol\"] = (C*3 + H*8 + O*3)/3\n",
    "molw_cmol[\"glucose\"] = (C*6 + H*12 + O*6)/6\n",
    "\n",
    "#convert to cmol/cmol\n",
    "\n",
    "Y_sx = Y_sx_mass * molw_cmol[\"glucose\"] / molw_cmol[\"biomass\"]\n",
    "Y_se = Y_se_mass * molw_cmol[\"glucose\"] / molw_cmol[\"ethanol\"]\n",
    "Y_sg = Y_sg_mass * molw_cmol[\"glucose\"] / molw_cmol[\"glycerol\"]\n",
    "\n"
   ]
  },
  {
   "cell_type": "code",
   "execution_count": 23,
   "metadata": {},
   "outputs": [
    {
     "name": "stdout",
     "output_type": "stream",
     "text": [
      "0.16581944579800542\n",
      "0.6517756360163236\n",
      "0.07531441787738616\n"
     ]
    }
   ],
   "source": [
    "print(Y_sx)\n",
    "print(Y_se)\n",
    "print(Y_sg)"
   ]
  },
  {
   "cell_type": "code",
   "execution_count": 24,
   "metadata": {},
   "outputs": [
    {
     "data": {
      "text/plain": [
       "0.10709050030828479"
      ]
     },
     "execution_count": 24,
     "metadata": {},
     "output_type": "execute_result"
    }
   ],
   "source": [
    "1 - Y_sx - Y_se - Y_sg"
   ]
  },
  {
   "cell_type": "code",
   "execution_count": 14,
   "metadata": {},
   "outputs": [],
   "source": [
    "M_CO2 = 44.01\n",
    "m_glc_miss= 0.106*mac_glc\n",
    "mol_glc_miss = m_glc_miss/M_glc"
   ]
  },
  {
   "cell_type": "code",
   "execution_count": 15,
   "metadata": {},
   "outputs": [
    {
     "data": {
      "text/plain": [
       "3.107277975133215"
      ]
     },
     "execution_count": 15,
     "metadata": {},
     "output_type": "execute_result"
    }
   ],
   "source": [
    "6 * mol_glc_miss * M_CO2"
   ]
  },
  {
   "cell_type": "markdown",
   "metadata": {},
   "source": [
    "## Assignment 2"
   ]
  },
  {
   "cell_type": "code",
   "execution_count": 26,
   "metadata": {},
   "outputs": [
    {
     "name": "stdout",
     "output_type": "stream",
     "text": [
      "3\n"
     ]
    }
   ],
   "source": [
    "import numpy as np\n",
    "\n",
    "# Metabolic Flux Analysis\n",
    "\n",
    "# 1. Write down the stoichiometry matrix S for the model as numpy array.\n",
    "\n",
    "# replace [[]] with the stoichiometric matrix.\n",
    "S = np.array([[-1, -1,  0,  0,  0,  1],\n",
    "              [ 1,  0,  0,  0, -1,  0],\n",
    "              [ 0,  1, -1, -1,  0,  0]])\n",
    "degrees_of_freedom = S.shape[1] - np.linalg.matrix_rank(S)\n",
    "print(degrees_of_freedom)"
   ]
  },
  {
   "cell_type": "markdown",
   "metadata": {},
   "source": [
    "I think there was a misunderstanding on how to replace `_`. It should be either the final calculation step or a variable or similar and not a copy pasted number."
   ]
  },
  {
   "cell_type": "markdown",
   "metadata": {},
   "source": [
    "To calculate v_c you need to solve the linear equation system v_c = S_c^-1 * S_m * v_m. To do this you need the find the inverse of the S_c matric which is done using the linear algebra part of numpy, np.linalg.inv(S_c)."
   ]
  }
 ],
 "metadata": {
  "interpreter": {
   "hash": "bb2bf0c01b29514be642652953b1e0c74805adab203b9b4822521755c7a4c064"
  },
  "kernelspec": {
   "display_name": "Python 3.8.5 64-bit ('.venv_cellfactories': venv)",
   "name": "python3"
  },
  "language_info": {
   "codemirror_mode": {
    "name": "ipython",
    "version": 3
   },
   "file_extension": ".py",
   "mimetype": "text/x-python",
   "name": "python",
   "nbconvert_exporter": "python",
   "pygments_lexer": "ipython3",
   "version": "3.8.5"
  },
  "orig_nbformat": 4
 },
 "nbformat": 4,
 "nbformat_minor": 2
}
